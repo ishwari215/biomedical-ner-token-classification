{
 "cells": [
  {
   "cell_type": "markdown",
   "id": "8ff817ba",
   "metadata": {
    "id": "8ff817ba"
   },
   "source": [
    "# **EXPERIMENT-2 : CRF_bilstm_word2vec_vs_charword**"
   ]
  },
  {
   "cell_type": "code",
   "execution_count": 1,
   "id": "bffac682",
   "metadata": {
    "id": "bffac682"
   },
   "outputs": [],
   "source": [
    "import random\n",
    "import numpy as np\n",
    "import torch\n",
    "import random\n",
    "import torch.backends.cudnn as cudnn\n",
    "\n",
    "def set_seed(seed):\n",
    "    random.seed(seed)\n",
    "    np.random.seed(seed)\n",
    "    torch.manual_seed(seed)\n",
    "    torch.cuda.manual_seed_all(seed)  # if using multi-GPU\n",
    "    torch.backends.cudnn.deterministic = True\n",
    "    torch.backends.cudnn.benchmark = False  # slightly slower but reproducible\n",
    "\n",
    "set_seed(24)"
   ]
  },
  {
   "cell_type": "code",
   "execution_count": 3,
   "id": "OXE7ycvihAMs",
   "metadata": {
    "colab": {
     "base_uri": "https://localhost:8080/"
    },
    "id": "OXE7ycvihAMs",
    "outputId": "d716bec7-7496-4975-a4cb-d2fa4c733e78"
   },
   "outputs": [
    {
     "name": "stdout",
     "output_type": "stream",
     "text": [
      "Collecting datasets\n",
      "  Downloading datasets-3.5.1-py3-none-any.whl.metadata (19 kB)\n",
      "Requirement already satisfied: filelock in /usr/local/lib/python3.11/dist-packages (from datasets) (3.18.0)\n",
      "Requirement already satisfied: numpy>=1.17 in /usr/local/lib/python3.11/dist-packages (from datasets) (2.0.2)\n",
      "Requirement already satisfied: pyarrow>=15.0.0 in /usr/local/lib/python3.11/dist-packages (from datasets) (18.1.0)\n",
      "Collecting dill<0.3.9,>=0.3.0 (from datasets)\n",
      "  Downloading dill-0.3.8-py3-none-any.whl.metadata (10 kB)\n",
      "Requirement already satisfied: pandas in /usr/local/lib/python3.11/dist-packages (from datasets) (2.2.2)\n",
      "Requirement already satisfied: requests>=2.32.2 in /usr/local/lib/python3.11/dist-packages (from datasets) (2.32.3)\n",
      "Requirement already satisfied: tqdm>=4.66.3 in /usr/local/lib/python3.11/dist-packages (from datasets) (4.67.1)\n",
      "Collecting xxhash (from datasets)\n",
      "  Downloading xxhash-3.5.0-cp311-cp311-manylinux_2_17_x86_64.manylinux2014_x86_64.whl.metadata (12 kB)\n",
      "Collecting multiprocess<0.70.17 (from datasets)\n",
      "  Downloading multiprocess-0.70.16-py311-none-any.whl.metadata (7.2 kB)\n",
      "Collecting fsspec<=2025.3.0,>=2023.1.0 (from fsspec[http]<=2025.3.0,>=2023.1.0->datasets)\n",
      "  Downloading fsspec-2025.3.0-py3-none-any.whl.metadata (11 kB)\n",
      "Requirement already satisfied: aiohttp in /usr/local/lib/python3.11/dist-packages (from datasets) (3.11.15)\n",
      "Requirement already satisfied: huggingface-hub>=0.24.0 in /usr/local/lib/python3.11/dist-packages (from datasets) (0.30.2)\n",
      "Requirement already satisfied: packaging in /usr/local/lib/python3.11/dist-packages (from datasets) (24.2)\n",
      "Requirement already satisfied: pyyaml>=5.1 in /usr/local/lib/python3.11/dist-packages (from datasets) (6.0.2)\n",
      "Requirement already satisfied: aiohappyeyeballs>=2.3.0 in /usr/local/lib/python3.11/dist-packages (from aiohttp->datasets) (2.6.1)\n",
      "Requirement already satisfied: aiosignal>=1.1.2 in /usr/local/lib/python3.11/dist-packages (from aiohttp->datasets) (1.3.2)\n",
      "Requirement already satisfied: attrs>=17.3.0 in /usr/local/lib/python3.11/dist-packages (from aiohttp->datasets) (25.3.0)\n",
      "Requirement already satisfied: frozenlist>=1.1.1 in /usr/local/lib/python3.11/dist-packages (from aiohttp->datasets) (1.6.0)\n",
      "Requirement already satisfied: multidict<7.0,>=4.5 in /usr/local/lib/python3.11/dist-packages (from aiohttp->datasets) (6.4.3)\n",
      "Requirement already satisfied: propcache>=0.2.0 in /usr/local/lib/python3.11/dist-packages (from aiohttp->datasets) (0.3.1)\n",
      "Requirement already satisfied: yarl<2.0,>=1.17.0 in /usr/local/lib/python3.11/dist-packages (from aiohttp->datasets) (1.20.0)\n",
      "Requirement already satisfied: typing-extensions>=3.7.4.3 in /usr/local/lib/python3.11/dist-packages (from huggingface-hub>=0.24.0->datasets) (4.13.2)\n",
      "Requirement already satisfied: charset-normalizer<4,>=2 in /usr/local/lib/python3.11/dist-packages (from requests>=2.32.2->datasets) (3.4.1)\n",
      "Requirement already satisfied: idna<4,>=2.5 in /usr/local/lib/python3.11/dist-packages (from requests>=2.32.2->datasets) (3.10)\n",
      "Requirement already satisfied: urllib3<3,>=1.21.1 in /usr/local/lib/python3.11/dist-packages (from requests>=2.32.2->datasets) (2.4.0)\n",
      "Requirement already satisfied: certifi>=2017.4.17 in /usr/local/lib/python3.11/dist-packages (from requests>=2.32.2->datasets) (2025.4.26)\n",
      "Requirement already satisfied: python-dateutil>=2.8.2 in /usr/local/lib/python3.11/dist-packages (from pandas->datasets) (2.9.0.post0)\n",
      "Requirement already satisfied: pytz>=2020.1 in /usr/local/lib/python3.11/dist-packages (from pandas->datasets) (2025.2)\n",
      "Requirement already satisfied: tzdata>=2022.7 in /usr/local/lib/python3.11/dist-packages (from pandas->datasets) (2025.2)\n",
      "Requirement already satisfied: six>=1.5 in /usr/local/lib/python3.11/dist-packages (from python-dateutil>=2.8.2->pandas->datasets) (1.17.0)\n",
      "Downloading datasets-3.5.1-py3-none-any.whl (491 kB)\n",
      "\u001b[2K   \u001b[90m━━━━━━━━━━━━━━━━━━━━━━━━━━━━━━━━━━━━━━━━\u001b[0m \u001b[32m491.4/491.4 kB\u001b[0m \u001b[31m8.4 MB/s\u001b[0m eta \u001b[36m0:00:00\u001b[0m\n",
      "\u001b[?25hDownloading dill-0.3.8-py3-none-any.whl (116 kB)\n",
      "\u001b[2K   \u001b[90m━━━━━━━━━━━━━━━━━━━━━━━━━━━━━━━━━━━━━━━━\u001b[0m \u001b[32m116.3/116.3 kB\u001b[0m \u001b[31m11.8 MB/s\u001b[0m eta \u001b[36m0:00:00\u001b[0m\n",
      "\u001b[?25hDownloading fsspec-2025.3.0-py3-none-any.whl (193 kB)\n",
      "\u001b[2K   \u001b[90m━━━━━━━━━━━━━━━━━━━━━━━━━━━━━━━━━━━━━━━━\u001b[0m \u001b[32m193.6/193.6 kB\u001b[0m \u001b[31m15.7 MB/s\u001b[0m eta \u001b[36m0:00:00\u001b[0m\n",
      "\u001b[?25hDownloading multiprocess-0.70.16-py311-none-any.whl (143 kB)\n",
      "\u001b[2K   \u001b[90m━━━━━━━━━━━━━━━━━━━━━━━━━━━━━━━━━━━━━━━━\u001b[0m \u001b[32m143.5/143.5 kB\u001b[0m \u001b[31m13.5 MB/s\u001b[0m eta \u001b[36m0:00:00\u001b[0m\n",
      "\u001b[?25hDownloading xxhash-3.5.0-cp311-cp311-manylinux_2_17_x86_64.manylinux2014_x86_64.whl (194 kB)\n",
      "\u001b[2K   \u001b[90m━━━━━━━━━━━━━━━━━━━━━━━━━━━━━━━━━━━━━━━━\u001b[0m \u001b[32m194.8/194.8 kB\u001b[0m \u001b[31m18.2 MB/s\u001b[0m eta \u001b[36m0:00:00\u001b[0m\n",
      "\u001b[?25hInstalling collected packages: xxhash, fsspec, dill, multiprocess, datasets\n",
      "  Attempting uninstall: fsspec\n",
      "    Found existing installation: fsspec 2025.3.2\n",
      "    Uninstalling fsspec-2025.3.2:\n",
      "      Successfully uninstalled fsspec-2025.3.2\n",
      "\u001b[31mERROR: pip's dependency resolver does not currently take into account all the packages that are installed. This behaviour is the source of the following dependency conflicts.\n",
      "torch 2.6.0+cu124 requires nvidia-cublas-cu12==12.4.5.8; platform_system == \"Linux\" and platform_machine == \"x86_64\", but you have nvidia-cublas-cu12 12.5.3.2 which is incompatible.\n",
      "torch 2.6.0+cu124 requires nvidia-cuda-cupti-cu12==12.4.127; platform_system == \"Linux\" and platform_machine == \"x86_64\", but you have nvidia-cuda-cupti-cu12 12.5.82 which is incompatible.\n",
      "torch 2.6.0+cu124 requires nvidia-cuda-nvrtc-cu12==12.4.127; platform_system == \"Linux\" and platform_machine == \"x86_64\", but you have nvidia-cuda-nvrtc-cu12 12.5.82 which is incompatible.\n",
      "torch 2.6.0+cu124 requires nvidia-cuda-runtime-cu12==12.4.127; platform_system == \"Linux\" and platform_machine == \"x86_64\", but you have nvidia-cuda-runtime-cu12 12.5.82 which is incompatible.\n",
      "torch 2.6.0+cu124 requires nvidia-cudnn-cu12==9.1.0.70; platform_system == \"Linux\" and platform_machine == \"x86_64\", but you have nvidia-cudnn-cu12 9.3.0.75 which is incompatible.\n",
      "torch 2.6.0+cu124 requires nvidia-cufft-cu12==11.2.1.3; platform_system == \"Linux\" and platform_machine == \"x86_64\", but you have nvidia-cufft-cu12 11.2.3.61 which is incompatible.\n",
      "torch 2.6.0+cu124 requires nvidia-curand-cu12==10.3.5.147; platform_system == \"Linux\" and platform_machine == \"x86_64\", but you have nvidia-curand-cu12 10.3.6.82 which is incompatible.\n",
      "torch 2.6.0+cu124 requires nvidia-cusolver-cu12==11.6.1.9; platform_system == \"Linux\" and platform_machine == \"x86_64\", but you have nvidia-cusolver-cu12 11.6.3.83 which is incompatible.\n",
      "torch 2.6.0+cu124 requires nvidia-cusparse-cu12==12.3.1.170; platform_system == \"Linux\" and platform_machine == \"x86_64\", but you have nvidia-cusparse-cu12 12.5.1.3 which is incompatible.\n",
      "torch 2.6.0+cu124 requires nvidia-nvjitlink-cu12==12.4.127; platform_system == \"Linux\" and platform_machine == \"x86_64\", but you have nvidia-nvjitlink-cu12 12.5.82 which is incompatible.\n",
      "gcsfs 2025.3.2 requires fsspec==2025.3.2, but you have fsspec 2025.3.0 which is incompatible.\u001b[0m\u001b[31m\n",
      "\u001b[0mSuccessfully installed datasets-3.5.1 dill-0.3.8 fsspec-2025.3.0 multiprocess-0.70.16 xxhash-3.5.0\n",
      "Collecting gensim\n",
      "  Downloading gensim-4.3.3-cp311-cp311-manylinux_2_17_x86_64.manylinux2014_x86_64.whl.metadata (8.1 kB)\n",
      "Collecting numpy<2.0,>=1.18.5 (from gensim)\n",
      "  Downloading numpy-1.26.4-cp311-cp311-manylinux_2_17_x86_64.manylinux2014_x86_64.whl.metadata (61 kB)\n",
      "\u001b[2K     \u001b[90m━━━━━━━━━━━━━━━━━━━━━━━━━━━━━━━━━━━━━━━━\u001b[0m \u001b[32m61.0/61.0 kB\u001b[0m \u001b[31m2.4 MB/s\u001b[0m eta \u001b[36m0:00:00\u001b[0m\n",
      "\u001b[?25hCollecting scipy<1.14.0,>=1.7.0 (from gensim)\n",
      "  Downloading scipy-1.13.1-cp311-cp311-manylinux_2_17_x86_64.manylinux2014_x86_64.whl.metadata (60 kB)\n",
      "\u001b[2K     \u001b[90m━━━━━━━━━━━━━━━━━━━━━━━━━━━━━━━━━━━━━━━━\u001b[0m \u001b[32m60.6/60.6 kB\u001b[0m \u001b[31m2.6 MB/s\u001b[0m eta \u001b[36m0:00:00\u001b[0m\n",
      "\u001b[?25hRequirement already satisfied: smart-open>=1.8.1 in /usr/local/lib/python3.11/dist-packages (from gensim) (7.1.0)\n",
      "Requirement already satisfied: wrapt in /usr/local/lib/python3.11/dist-packages (from smart-open>=1.8.1->gensim) (1.17.2)\n",
      "Downloading gensim-4.3.3-cp311-cp311-manylinux_2_17_x86_64.manylinux2014_x86_64.whl (26.7 MB)\n",
      "\u001b[2K   \u001b[90m━━━━━━━━━━━━━━━━━━━━━━━━━━━━━━━━━━━━━━━━\u001b[0m \u001b[32m26.7/26.7 MB\u001b[0m \u001b[31m27.5 MB/s\u001b[0m eta \u001b[36m0:00:00\u001b[0m\n",
      "\u001b[?25hDownloading numpy-1.26.4-cp311-cp311-manylinux_2_17_x86_64.manylinux2014_x86_64.whl (18.3 MB)\n",
      "\u001b[2K   \u001b[90m━━━━━━━━━━━━━━━━━━━━━━━━━━━━━━━━━━━━━━━━\u001b[0m \u001b[32m18.3/18.3 MB\u001b[0m \u001b[31m113.0 MB/s\u001b[0m eta \u001b[36m0:00:00\u001b[0m\n",
      "\u001b[?25hDownloading scipy-1.13.1-cp311-cp311-manylinux_2_17_x86_64.manylinux2014_x86_64.whl (38.6 MB)\n",
      "\u001b[2K   \u001b[90m━━━━━━━━━━━━━━━━━━━━━━━━━━━━━━━━━━━━━━━━\u001b[0m \u001b[32m38.6/38.6 MB\u001b[0m \u001b[31m20.4 MB/s\u001b[0m eta \u001b[36m0:00:00\u001b[0m\n",
      "\u001b[?25hInstalling collected packages: numpy, scipy, gensim\n",
      "  Attempting uninstall: numpy\n",
      "    Found existing installation: numpy 2.0.2\n",
      "    Uninstalling numpy-2.0.2:\n",
      "      Successfully uninstalled numpy-2.0.2\n",
      "  Attempting uninstall: scipy\n",
      "    Found existing installation: scipy 1.15.2\n",
      "    Uninstalling scipy-1.15.2:\n",
      "      Successfully uninstalled scipy-1.15.2\n",
      "\u001b[31mERROR: pip's dependency resolver does not currently take into account all the packages that are installed. This behaviour is the source of the following dependency conflicts.\n",
      "thinc 8.3.6 requires numpy<3.0.0,>=2.0.0, but you have numpy 1.26.4 which is incompatible.\u001b[0m\u001b[31m\n",
      "\u001b[0mSuccessfully installed gensim-4.3.3 numpy-1.26.4 scipy-1.13.1\n",
      "Collecting scipy\n",
      "  Downloading scipy-1.15.2-cp311-cp311-manylinux_2_17_x86_64.manylinux2014_x86_64.whl.metadata (61 kB)\n",
      "\u001b[2K     \u001b[90m━━━━━━━━━━━━━━━━━━━━━━━━━━━━━━━━━━━━━━━━\u001b[0m \u001b[32m62.0/62.0 kB\u001b[0m \u001b[31m1.8 MB/s\u001b[0m eta \u001b[36m0:00:00\u001b[0m\n",
      "\u001b[?25hCollecting numpy<2.5,>=1.23.5 (from scipy)\n",
      "  Downloading numpy-2.2.5-cp311-cp311-manylinux_2_17_x86_64.manylinux2014_x86_64.whl.metadata (62 kB)\n",
      "\u001b[2K     \u001b[90m━━━━━━━━━━━━━━━━━━━━━━━━━━━━━━━━━━━━━━━━\u001b[0m \u001b[32m62.0/62.0 kB\u001b[0m \u001b[31m3.7 MB/s\u001b[0m eta \u001b[36m0:00:00\u001b[0m\n",
      "\u001b[?25hDownloading scipy-1.15.2-cp311-cp311-manylinux_2_17_x86_64.manylinux2014_x86_64.whl (37.6 MB)\n",
      "\u001b[2K   \u001b[90m━━━━━━━━━━━━━━━━━━━━━━━━━━━━━━━━━━━━━━━━\u001b[0m \u001b[32m37.6/37.6 MB\u001b[0m \u001b[31m21.6 MB/s\u001b[0m eta \u001b[36m0:00:00\u001b[0m\n",
      "\u001b[?25hDownloading numpy-2.2.5-cp311-cp311-manylinux_2_17_x86_64.manylinux2014_x86_64.whl (16.4 MB)\n",
      "\u001b[2K   \u001b[90m━━━━━━━━━━━━━━━━━━━━━━━━━━━━━━━━━━━━━━━━\u001b[0m \u001b[32m16.4/16.4 MB\u001b[0m \u001b[31m119.1 MB/s\u001b[0m eta \u001b[36m0:00:00\u001b[0m\n",
      "\u001b[?25hInstalling collected packages: numpy, scipy\n",
      "  Attempting uninstall: numpy\n",
      "    Found existing installation: numpy 1.26.4\n",
      "    Uninstalling numpy-1.26.4:\n",
      "      Successfully uninstalled numpy-1.26.4\n",
      "  Attempting uninstall: scipy\n",
      "    Found existing installation: scipy 1.13.1\n",
      "    Uninstalling scipy-1.13.1:\n",
      "      Successfully uninstalled scipy-1.13.1\n",
      "\u001b[31mERROR: pip's dependency resolver does not currently take into account all the packages that are installed. This behaviour is the source of the following dependency conflicts.\n",
      "gensim 4.3.3 requires numpy<2.0,>=1.18.5, but you have numpy 2.2.5 which is incompatible.\n",
      "gensim 4.3.3 requires scipy<1.14.0,>=1.7.0, but you have scipy 1.15.2 which is incompatible.\n",
      "tensorflow 2.18.0 requires numpy<2.1.0,>=1.26.0, but you have numpy 2.2.5 which is incompatible.\n",
      "numba 0.60.0 requires numpy<2.1,>=1.22, but you have numpy 2.2.5 which is incompatible.\u001b[0m\u001b[31m\n",
      "\u001b[0mSuccessfully installed numpy-2.2.5 scipy-1.15.2\n",
      "Collecting numpy\n",
      "  Using cached numpy-2.2.5-cp311-cp311-manylinux_2_17_x86_64.manylinux2014_x86_64.whl.metadata (62 kB)\n",
      "Collecting gensim\n",
      "  Using cached gensim-4.3.3-cp311-cp311-manylinux_2_17_x86_64.manylinux2014_x86_64.whl.metadata (8.1 kB)\n",
      "Collecting numpy\n",
      "  Using cached numpy-1.26.4-cp311-cp311-manylinux_2_17_x86_64.manylinux2014_x86_64.whl.metadata (61 kB)\n",
      "Collecting scipy<1.14.0,>=1.7.0 (from gensim)\n",
      "  Using cached scipy-1.13.1-cp311-cp311-manylinux_2_17_x86_64.manylinux2014_x86_64.whl.metadata (60 kB)\n",
      "Collecting smart-open>=1.8.1 (from gensim)\n",
      "  Downloading smart_open-7.1.0-py3-none-any.whl.metadata (24 kB)\n",
      "Collecting wrapt (from smart-open>=1.8.1->gensim)\n",
      "  Downloading wrapt-1.17.2-cp311-cp311-manylinux_2_5_x86_64.manylinux1_x86_64.manylinux_2_17_x86_64.manylinux2014_x86_64.whl.metadata (6.4 kB)\n",
      "Using cached gensim-4.3.3-cp311-cp311-manylinux_2_17_x86_64.manylinux2014_x86_64.whl (26.7 MB)\n",
      "Using cached numpy-1.26.4-cp311-cp311-manylinux_2_17_x86_64.manylinux2014_x86_64.whl (18.3 MB)\n",
      "Using cached scipy-1.13.1-cp311-cp311-manylinux_2_17_x86_64.manylinux2014_x86_64.whl (38.6 MB)\n",
      "Downloading smart_open-7.1.0-py3-none-any.whl (61 kB)\n",
      "\u001b[2K   \u001b[90m━━━━━━━━━━━━━━━━━━━━━━━━━━━━━━━━━━━━━━━━\u001b[0m \u001b[32m61.7/61.7 kB\u001b[0m \u001b[31m2.8 MB/s\u001b[0m eta \u001b[36m0:00:00\u001b[0m\n",
      "\u001b[?25hDownloading wrapt-1.17.2-cp311-cp311-manylinux_2_5_x86_64.manylinux1_x86_64.manylinux_2_17_x86_64.manylinux2014_x86_64.whl (83 kB)\n",
      "\u001b[2K   \u001b[90m━━━━━━━━━━━━━━━━━━━━━━━━━━━━━━━━━━━━━━━━\u001b[0m \u001b[32m83.2/83.2 kB\u001b[0m \u001b[31m7.5 MB/s\u001b[0m eta \u001b[36m0:00:00\u001b[0m\n",
      "\u001b[?25hInstalling collected packages: wrapt, numpy, smart-open, scipy, gensim\n",
      "  Attempting uninstall: wrapt\n",
      "    Found existing installation: wrapt 1.17.2\n",
      "    Uninstalling wrapt-1.17.2:\n",
      "      Successfully uninstalled wrapt-1.17.2\n",
      "  Attempting uninstall: numpy\n",
      "    Found existing installation: numpy 2.2.5\n",
      "    Uninstalling numpy-2.2.5:\n",
      "      Successfully uninstalled numpy-2.2.5\n",
      "  Attempting uninstall: smart-open\n",
      "    Found existing installation: smart-open 7.1.0\n",
      "    Uninstalling smart-open-7.1.0:\n",
      "      Successfully uninstalled smart-open-7.1.0\n",
      "  Attempting uninstall: scipy\n",
      "    Found existing installation: scipy 1.15.2\n",
      "    Uninstalling scipy-1.15.2:\n",
      "      Successfully uninstalled scipy-1.15.2\n",
      "  Attempting uninstall: gensim\n",
      "    Found existing installation: gensim 4.3.3\n",
      "    Uninstalling gensim-4.3.3:\n",
      "      Successfully uninstalled gensim-4.3.3\n",
      "\u001b[31mERROR: pip's dependency resolver does not currently take into account all the packages that are installed. This behaviour is the source of the following dependency conflicts.\n",
      "thinc 8.3.6 requires numpy<3.0.0,>=2.0.0, but you have numpy 1.26.4 which is incompatible.\u001b[0m\u001b[31m\n",
      "\u001b[0mSuccessfully installed gensim-4.3.3 numpy-1.26.4 scipy-1.13.1 smart-open-7.1.0 wrapt-1.17.2\n"
     ]
    }
   ],
   "source": [
    "!pip install datasets\n",
    "!pip install gensim\n",
    "!pip install --upgrade --force-reinstall scipy\n",
    "!pip install --upgrade --force-reinstall numpy gensim\n",
    "\n",
    "\n"
   ]
  },
  {
   "cell_type": "code",
   "execution_count": 4,
   "id": "DaYEEIyOwnJt",
   "metadata": {
    "colab": {
     "base_uri": "https://localhost:8080/",
     "height": 964
    },
    "id": "DaYEEIyOwnJt",
    "outputId": "8df1e1c4-24dd-43ec-fe5f-d408122d9da1"
   },
   "outputs": [
    {
     "name": "stdout",
     "output_type": "stream",
     "text": [
      "Found existing installation: numpy 1.26.4\n",
      "Uninstalling numpy-1.26.4:\n",
      "  Successfully uninstalled numpy-1.26.4\n",
      "Found existing installation: gensim 4.3.3\n",
      "Uninstalling gensim-4.3.3:\n",
      "  Successfully uninstalled gensim-4.3.3\n",
      "Collecting numpy==1.24.4\n",
      "  Downloading numpy-1.24.4-cp311-cp311-manylinux_2_17_x86_64.manylinux2014_x86_64.whl.metadata (5.6 kB)\n",
      "Collecting gensim\n",
      "  Downloading gensim-4.3.3-cp311-cp311-manylinux_2_17_x86_64.manylinux2014_x86_64.whl.metadata (8.1 kB)\n",
      "Collecting scipy<1.14.0,>=1.7.0 (from gensim)\n",
      "  Downloading scipy-1.13.1-cp311-cp311-manylinux_2_17_x86_64.manylinux2014_x86_64.whl.metadata (60 kB)\n",
      "\u001b[2K     \u001b[90m━━━━━━━━━━━━━━━━━━━━━━━━━━━━━━━━━━━━━━━\u001b[0m \u001b[32m60.6/60.6 kB\u001b[0m \u001b[31m153.2 MB/s\u001b[0m eta \u001b[36m0:00:00\u001b[0m\n",
      "\u001b[?25hCollecting smart-open>=1.8.1 (from gensim)\n",
      "  Downloading smart_open-7.1.0-py3-none-any.whl.metadata (24 kB)\n",
      "Collecting wrapt (from smart-open>=1.8.1->gensim)\n",
      "  Downloading wrapt-1.17.2-cp311-cp311-manylinux_2_5_x86_64.manylinux1_x86_64.manylinux_2_17_x86_64.manylinux2014_x86_64.whl.metadata (6.4 kB)\n",
      "Downloading numpy-1.24.4-cp311-cp311-manylinux_2_17_x86_64.manylinux2014_x86_64.whl (17.3 MB)\n",
      "\u001b[2K   \u001b[90m━━━━━━━━━━━━━━━━━━━━━━━━━━━━━━━━━━━━━━━━\u001b[0m \u001b[32m17.3/17.3 MB\u001b[0m \u001b[31m57.9 MB/s\u001b[0m eta \u001b[36m0:00:00\u001b[0m\n",
      "\u001b[?25hDownloading gensim-4.3.3-cp311-cp311-manylinux_2_17_x86_64.manylinux2014_x86_64.whl (26.7 MB)\n",
      "\u001b[2K   \u001b[90m━━━━━━━━━━━━━━━━━━━━━━━━━━━━━━━━━━━━━━━━\u001b[0m \u001b[32m26.7/26.7 MB\u001b[0m \u001b[31m84.4 MB/s\u001b[0m eta \u001b[36m0:00:00\u001b[0m\n",
      "\u001b[?25hDownloading scipy-1.13.1-cp311-cp311-manylinux_2_17_x86_64.manylinux2014_x86_64.whl (38.6 MB)\n",
      "\u001b[2K   \u001b[90m━━━━━━━━━━━━━━━━━━━━━━━━━━━━━━━━━━━━━━━━\u001b[0m \u001b[32m38.6/38.6 MB\u001b[0m \u001b[31m112.5 MB/s\u001b[0m eta \u001b[36m0:00:00\u001b[0m\n",
      "\u001b[?25hDownloading smart_open-7.1.0-py3-none-any.whl (61 kB)\n",
      "\u001b[2K   \u001b[90m━━━━━━━━━━━━━━━━━━━━━━━━━━━━━━━━━━━━━━━━\u001b[0m \u001b[32m61.7/61.7 kB\u001b[0m \u001b[31m171.1 MB/s\u001b[0m eta \u001b[36m0:00:00\u001b[0m\n",
      "\u001b[?25hDownloading wrapt-1.17.2-cp311-cp311-manylinux_2_5_x86_64.manylinux1_x86_64.manylinux_2_17_x86_64.manylinux2014_x86_64.whl (83 kB)\n",
      "\u001b[2K   \u001b[90m━━━━━━━━━━━━━━━━━━━━━━━━━━━━━━━━━━━━━━━━\u001b[0m \u001b[32m83.2/83.2 kB\u001b[0m \u001b[31m190.2 MB/s\u001b[0m eta \u001b[36m0:00:00\u001b[0m\n",
      "\u001b[?25hInstalling collected packages: wrapt, numpy, smart-open, scipy, gensim\n",
      "  Attempting uninstall: wrapt\n",
      "    Found existing installation: wrapt 1.17.2\n",
      "    Uninstalling wrapt-1.17.2:\n",
      "      Successfully uninstalled wrapt-1.17.2\n",
      "  Attempting uninstall: smart-open\n",
      "    Found existing installation: smart-open 7.1.0\n",
      "    Uninstalling smart-open-7.1.0:\n",
      "      Successfully uninstalled smart-open-7.1.0\n",
      "  Attempting uninstall: scipy\n",
      "    Found existing installation: scipy 1.13.1\n",
      "    Uninstalling scipy-1.13.1:\n",
      "      Successfully uninstalled scipy-1.13.1\n",
      "\u001b[31mERROR: pip's dependency resolver does not currently take into account all the packages that are installed. This behaviour is the source of the following dependency conflicts.\n",
      "jax 0.5.2 requires numpy>=1.25, but you have numpy 1.24.4 which is incompatible.\n",
      "treescope 0.1.9 requires numpy>=1.25.2, but you have numpy 1.24.4 which is incompatible.\n",
      "pymc 5.22.0 requires numpy>=1.25.0, but you have numpy 1.24.4 which is incompatible.\n",
      "blosc2 3.3.1 requires numpy>=1.26, but you have numpy 1.24.4 which is incompatible.\n",
      "thinc 8.3.6 requires numpy<3.0.0,>=2.0.0, but you have numpy 1.24.4 which is incompatible.\n",
      "jaxlib 0.5.1 requires numpy>=1.25, but you have numpy 1.24.4 which is incompatible.\n",
      "tensorflow 2.18.0 requires numpy<2.1.0,>=1.26.0, but you have numpy 1.24.4 which is incompatible.\u001b[0m\u001b[31m\n",
      "\u001b[0mSuccessfully installed gensim-4.3.3 numpy-1.24.4 scipy-1.13.1 smart-open-7.1.0 wrapt-1.17.2\n"
     ]
    },
    {
     "data": {
      "application/vnd.colab-display-data+json": {
       "id": "42dba4e2872249c9b34cf1b9edb3ee79",
       "pip_warning": {
        "packages": [
         "numpy"
        ]
       }
      }
     },
     "metadata": {},
     "output_type": "display_data"
    }
   ],
   "source": [
    "!pip uninstall -y numpy gensim\n",
    "!pip install numpy==1.24.4 gensim --force-reinstall --no-cache-dir\n"
   ]
  },
  {
   "cell_type": "markdown",
   "id": "c014e932",
   "metadata": {
    "id": "c014e932"
   },
   "source": [
    "## Loading the PLOD-CW-25 Dataset"
   ]
  },
  {
   "cell_type": "code",
   "execution_count": 2,
   "id": "7315c60f",
   "metadata": {
    "colab": {
     "base_uri": "https://localhost:8080/"
    },
    "id": "7315c60f",
    "outputId": "d8242c2e-0259-4d29-cb28-8dd908a99fdc"
   },
   "outputs": [
    {
     "name": "stderr",
     "output_type": "stream",
     "text": [
      "/Users/amir/Desktop/data-science/second-semester/NLP/coursework/nlp_pg04/venv/lib/python3.12/site-packages/tqdm/auto.py:21: TqdmWarning: IProgress not found. Please update jupyter and ipywidgets. See https://ipywidgets.readthedocs.io/en/stable/user_install.html\n",
      "  from .autonotebook import tqdm as notebook_tqdm\n"
     ]
    }
   ],
   "source": [
    "from datasets import load_dataset\n",
    "\n",
    "ds = load_dataset(\"surrey-nlp/PLOD-CW-25\")"
   ]
  },
  {
   "cell_type": "markdown",
   "id": "Lwviubh0hRta",
   "metadata": {
    "id": "Lwviubh0hRta"
   },
   "source": [
    "## Previewing example"
   ]
  },
  {
   "cell_type": "code",
   "execution_count": 3,
   "id": "6vphpv0ahPl9",
   "metadata": {
    "colab": {
     "base_uri": "https://localhost:8080/"
    },
    "id": "6vphpv0ahPl9",
    "outputId": "af4063da-9679-4696-c7d8-7ebe01b48e2b"
   },
   "outputs": [
    {
     "name": "stdout",
     "output_type": "stream",
     "text": [
      "{'ner_tags': ['B-AC',\n",
      "              'O',\n",
      "              'B-LF',\n",
      "              'I-LF',\n",
      "              'I-LF',\n",
      "              'O',\n",
      "              'B-AC',\n",
      "              'O',\n",
      "              'B-LF',\n",
      "              'I-LF',\n",
      "              'I-LF',\n",
      "              'O'],\n",
      " 'pos_tags': ['NOUN',\n",
      "              'PUNCT',\n",
      "              'NOUN',\n",
      "              'NOUN',\n",
      "              'NOUN',\n",
      "              'PUNCT',\n",
      "              'PROPN',\n",
      "              'PUNCT',\n",
      "              'ADJ',\n",
      "              'NOUN',\n",
      "              'NOUN',\n",
      "              'PUNCT'],\n",
      " 'tokens': ['MRR',\n",
      "            ',',\n",
      "            'mortality',\n",
      "            'rate',\n",
      "            'ratio',\n",
      "            ';',\n",
      "            'TBI',\n",
      "            ',',\n",
      "            'traumatic',\n",
      "            'brain',\n",
      "            'injury',\n",
      "            '.']}\n"
     ]
    }
   ],
   "source": [
    "from pprint import pprint\n",
    "pprint(ds['train'][0] )\n"
   ]
  },
  {
   "cell_type": "markdown",
   "id": "YLzvg3JniGzl",
   "metadata": {
    "id": "YLzvg3JniGzl"
   },
   "source": [
    "## Split the Dataset into Train, Test, and Validation\n",
    "\n",
    "We assign the different splits of the PLOD-CW-25 dataset to separate variables for better handling.\n"
   ]
  },
  {
   "cell_type": "code",
   "execution_count": 4,
   "id": "1e27856e",
   "metadata": {
    "id": "1e27856e"
   },
   "outputs": [],
   "source": [
    "train_data = ds['train']\n",
    "test_data = ds['test']\n",
    "validate_data = ds['validation']"
   ]
  },
  {
   "cell_type": "markdown",
   "id": "f7e8f179",
   "metadata": {
    "id": "f7e8f179"
   },
   "source": [
    "## general preprocessing"
   ]
  },
  {
   "cell_type": "code",
   "execution_count": 5,
   "id": "faf8c8ee",
   "metadata": {
    "id": "faf8c8ee"
   },
   "outputs": [],
   "source": [
    "all_tokens = set([token for sent in train_data['tokens'] for token in sent])\n",
    "ner_tags = set([tag for sent in train_data['ner_tags'] for tag in sent])"
   ]
  },
  {
   "cell_type": "markdown",
   "id": "xPiPIYvKkwKa",
   "metadata": {
    "id": "xPiPIYvKkwKa"
   },
   "source": [
    "## Build Vocabulary from Training Tokens\n",
    "\n",
    "We extract all tokens from all training sentences and flatten them into a single list for frequency counting. This allows us to build a vocabulary where each unique token is assigned a unique index. Special tokens like `<PAD>` and `<UNK>` are also added for padding and unknown words.\n"
   ]
  },
  {
   "cell_type": "code",
   "execution_count": 6,
   "id": "f14d67e3",
   "metadata": {
    "id": "f14d67e3"
   },
   "outputs": [],
   "source": [
    "from collections import Counter\n",
    "\n",
    "tokens_train = [ex['tokens'] for ex in ds['train']]\n",
    "\n",
    "word_counter = Counter(token for sent in tokens_train for token in sent)\n",
    "\n",
    "# Assign unique indices\n",
    "word_vocab = {token: idx + 2 for idx, (token, _) in enumerate(word_counter.items())}\n",
    "# equivilent to: token to id\n",
    "word_vocab['<PAD>'] = 0\n",
    "word_vocab['<UNK>'] = 1"
   ]
  },
  {
   "cell_type": "markdown",
   "id": "xL8qgyeFlYnR",
   "metadata": {
    "id": "xL8qgyeFlYnR"
   },
   "source": [
    "## Functions to Convert Tokens and Tags to IDs (and vice versa)\n",
    "\n",
    "These helper functions handle converting tokens and tags to their index values using lookup dictionaries. They also deal with unknown tokens or IDs by falling back to special defaults like `<UNK>` or `'O'`.\n"
   ]
  },
  {
   "cell_type": "code",
   "execution_count": 7,
   "id": "2e5c7bf2",
   "metadata": {
    "id": "2e5c7bf2"
   },
   "outputs": [],
   "source": [
    "def token_to_id_fn(token, token_to_id):\n",
    "    return token_to_id.get(token, token_to_id['<UNK>'])\n",
    "\n",
    "def id_to_token_fn(idx, id_to_token):\n",
    "    return id_to_token.get(idx, '<UNK>')\n",
    "\n",
    "def tag_to_id_fn(tag, tag_to_id):\n",
    "    return tag_to_id[tag]\n",
    "\n",
    "def id_to_tag_fn(idx, id_to_tag):\n",
    "    return id_to_tag.get(idx, 'O')"
   ]
  },
  {
   "cell_type": "markdown",
   "id": "iK67iRkApjxX",
   "metadata": {
    "id": "iK67iRkApjxX"
   },
   "source": [
    "## Convert Tokens and Tags to Their Corresponding IDs\n",
    "\n",
    "This function takes each example in the dataset and replaces the tokens and NER tags with their corresponding integer IDs using the vocab dictionaries."
   ]
  },
  {
   "cell_type": "code",
   "execution_count": 8,
   "id": "3df29c24",
   "metadata": {
    "id": "3df29c24"
   },
   "outputs": [],
   "source": [
    "def map_dataset(dataset, token_to_id, tag_to_id):\n",
    "  mapped_dataset = []\n",
    "  for row in dataset:\n",
    "    tokens = row['tokens']\n",
    "    ner_tags = row['ner_tags']\n",
    "    mapped_tokens = [token_to_id.get(token, token_to_id['<UNK>']) for token in tokens]\n",
    "    mapped_ner_tags = [tag_to_id[tag] for tag in ner_tags]\n",
    "    mapped_dataset.append({\n",
    "        'tokens': mapped_tokens,\n",
    "        'ner_tags': mapped_ner_tags\n",
    "    })\n",
    "  return mapped_dataset"
   ]
  },
  {
   "cell_type": "code",
   "execution_count": 9,
   "id": "1ec7ae5b",
   "metadata": {
    "id": "1ec7ae5b"
   },
   "outputs": [],
   "source": [
    "tag_to_id = {\n",
    "    'O': 0,\n",
    "    'B-LF': 1,\n",
    "    'I-LF': 2,\n",
    "    'B-AC': 3\n",
    "}"
   ]
  },
  {
   "cell_type": "markdown",
   "id": "nG-B39KRqVlc",
   "metadata": {
    "id": "nG-B39KRqVlc"
   },
   "source": [
    "## Convert Dataset Splits to ID Format\n",
    "\n",
    "We apply the mapping function to the train, test, and validation splits to convert all tokens and tags to their corresponding integer IDs using the vocab dictionaries. This prepares the data for model input.\n"
   ]
  },
  {
   "cell_type": "code",
   "execution_count": 10,
   "id": "b73b094d",
   "metadata": {
    "id": "b73b094d"
   },
   "outputs": [],
   "source": [
    "mapped_train_data = map_dataset(train_data, word_vocab, tag_to_id)\n",
    "mapped_test_data = map_dataset(test_data, word_vocab, tag_to_id)\n",
    "mapped_validate_data = map_dataset(validate_data, word_vocab, tag_to_id)"
   ]
  },
  {
   "cell_type": "markdown",
   "id": "t2WGCJm7qc8C",
   "metadata": {
    "id": "t2WGCJm7qc8C"
   },
   "source": [
    "## Visualize Sentence Lengths in Training Data\n",
    "\n",
    "We plot the distribution of token counts per sentence in the training data to understand length variability. The 99th percentile is marked to help decide a reasonable maximum sequence length for padding.\n"
   ]
  },
  {
   "cell_type": "code",
   "execution_count": 11,
   "id": "526e7b63",
   "metadata": {
    "colab": {
     "base_uri": "https://localhost:8080/",
     "height": 564
    },
    "id": "526e7b63",
    "outputId": "cb1caf4d-f3b0-45f6-81d1-60c05078237c"
   },
   "outputs": [
    {
     "data": {
      "image/png": "[encoded data removed]",
      "text/plain": [
       "<Figure size 800x600 with 1 Axes>"
      ]
     },
     "metadata": {},
     "output_type": "display_data"
    }
   ],
   "source": [
    "import matplotlib.pyplot as plt\n",
    "import seaborn as sns\n",
    "import numpy as np\n",
    "\n",
    "row_lengths = [len(sent['tokens']) for sent in mapped_train_data]\n",
    "\n",
    "\n",
    "percentile = np.percentile(row_lengths, 99)\n",
    "plt.figure(figsize=(8, 6))\n",
    "sns.boxplot(x=row_lengths)\n",
    "plt.axvline(x=np.percentile(row_lengths, 99), color='red', linestyle='--', label='99th Percentile')\n",
    "plt.title(\"Distribution of Row Lengths (Number of Tokens)\")\n",
    "plt.xlabel(\"Row Length (Number of Tokens)\")\n",
    "plt.show()"
   ]
  },
  {
   "cell_type": "markdown",
   "id": "S6ohxSuXqusn",
   "metadata": {
    "id": "S6ohxSuXqusn"
   },
   "source": [
    "## Plot Summary\n",
    "\n",
    "*   The boxplot shows that most sentences are relatively short, with the majority falling well below 100 tokens.\n",
    "*   A few outliers go beyond 150 tokens.\n",
    "*   The red dashed line marks the 99th percentile, which is around 150 tokens.\n",
    "*   This means we can safely set the maximum sequence length to 150, covering nearly all sentences while limiting the impact of unusually long ones.\n"
   ]
  },
  {
   "cell_type": "markdown",
   "id": "ZVGA8PUZrO_5",
   "metadata": {
    "id": "ZVGA8PUZrO_5"
   },
   "source": [
    "## Pad and Truncate Dataset to a Fixed Length\n",
    "\n",
    "We set a maximum sequence length of 150 based on the earlier analysis. This function goes through each example and either truncates or pads the tokens and tags to match this length. It also creates a mask to distinguish real tokens from padding.\n"
   ]
  },
  {
   "cell_type": "code",
   "execution_count": 12,
   "id": "2ffff109",
   "metadata": {
    "id": "2ffff109"
   },
   "outputs": [],
   "source": [
    "MAX_LENGTH = 150\n",
    "\n",
    "def pad_dataset(dataset, max_length):\n",
    "    padded_dataset = []\n",
    "    for row in dataset:\n",
    "        tokens = row['tokens']\n",
    "        ner_tags = row['ner_tags']\n",
    "        if len(tokens) > max_length:\n",
    "            tokens = tokens[:max_length]\n",
    "            ner_tags = ner_tags[:max_length]\n",
    "\n",
    "        else:\n",
    "            tokens += [0] * (max_length - len(tokens))\n",
    "            ner_tags += [0] * (max_length - len(ner_tags))\n",
    "\n",
    "        mask = [1 if token != 0 else 0 for token in tokens]\n",
    "\n",
    "        padded_dataset.append({\n",
    "            'tokens': tokens,\n",
    "            'ner_tags': ner_tags,\n",
    "            'mask': mask\n",
    "        })\n",
    "\n",
    "    return padded_dataset"
   ]
  },
  {
   "cell_type": "markdown",
   "id": "_CDSYBJWr7MM",
   "metadata": {
    "id": "_CDSYBJWr7MM"
   },
   "source": [
    "## Apply Padding and Truncation to All Dataset Splits\n",
    "\n",
    "We now apply the padding function to the train, test, and validation sets. Each example is padded or truncated to the same fixed length and a corresponding mask is added to indicate real tokens vs. padding.\n"
   ]
  },
  {
   "cell_type": "code",
   "execution_count": 13,
   "id": "4ad446a0",
   "metadata": {
    "id": "4ad446a0"
   },
   "outputs": [],
   "source": [
    "padded_train_data = pad_dataset(mapped_train_data, MAX_LENGTH)\n",
    "padded_test_data = pad_dataset(mapped_test_data, MAX_LENGTH)\n",
    "padded_validate_data = pad_dataset(mapped_validate_data, MAX_LENGTH)"
   ]
  },
  {
   "cell_type": "markdown",
   "id": "7cK3BvlysOAu",
   "metadata": {
    "id": "7cK3BvlysOAu"
   },
   "source": [
    "## Set Vocabulary Size and Embedding Dimension"
   ]
  },
  {
   "cell_type": "code",
   "execution_count": 14,
   "id": "23f5f741",
   "metadata": {
    "id": "23f5f741"
   },
   "outputs": [],
   "source": [
    "VOCAB_SIZE = len(word_vocab)\n",
    "DIM = 100"
   ]
  },
  {
   "cell_type": "code",
   "execution_count": 15,
   "id": "vKfFDLVV_Fx1",
   "metadata": {
    "colab": {
     "base_uri": "https://localhost:8080/"
    },
    "id": "vKfFDLVV_Fx1",
    "outputId": "642a3f11-0bcd-48a8-dbb9-ec374dc6b720"
   },
   "outputs": [
    {
     "name": "stdout",
     "output_type": "stream",
     "text": [
      "File bio_embedding_extrinsic already exists. Skipping download.\n"
     ]
    }
   ],
   "source": [
    "import os\n",
    "import urllib.request\n",
    "\n",
    "file_name = 'bio_embedding_extrinsic'\n",
    "download_url = 'https://figshare.com/ndownloader/files/12551780'\n",
    "\n",
    "if os.path.exists(file_name):\n",
    "    print(f\"File {file_name} already exists. Skipping download.\")\n",
    "else:\n",
    "    print(f\"Downloading {file_name} from {download_url}...\")\n",
    "    urllib.request.urlretrieve(download_url, file_name)\n",
    "    print(f\"Downloaded {file_name}.\")\n"
   ]
  },
  {
   "cell_type": "markdown",
   "id": "25f2fe32",
   "metadata": {
    "id": "25f2fe32"
   },
   "source": [
    "## Embedding"
   ]
  },
  {
   "cell_type": "markdown",
   "id": "EzV-fucyVVa2",
   "metadata": {
    "id": "EzV-fucyVVa2"
   },
   "source": [
    "### Embeddings Used\n",
    "\n",
    "We used **pretrained biomedical word embeddings** from:\n",
    "\n",
    "> **Zhang et al. (2019)** — *Improving Biomedical Word Embeddings with Subword Information and MeSH Ontology*  \n",
    "> Available via [Figshare](https://figshare.com/articles/dataset/BioWordVec_Improving_Biomedical_Word_Embeddings_with_Subword_Information_and_MeSH_Ontology/6885640)\n",
    "\n",
    "These embeddings, commonly known as **BioWordVec**, are trained on **PubMed abstracts** and incorporate:\n",
    "- **Subword information** via FastText-style modeling\n",
    "- **MeSH ontology knowledge** to enhance domain-specific semantics\n",
    "\n",
    "Their design makes them highly suitable for **biomedical NLP tasks** such as **Named Entity Recognition (NER)**, where vocabulary can be complex, domain-specific, and morphologically rich.\n"
   ]
  },
  {
   "cell_type": "code",
   "execution_count": 16,
   "id": "b7f8e05b",
   "metadata": {
    "id": "b7f8e05b"
   },
   "outputs": [],
   "source": [
    "from gensim.models import KeyedVectors\n",
    "from gensim.models import Word2Vec\n",
    "from gensim.models import KeyedVectors\n",
    "\n",
    "w2v_path = \"bio_embedding_extrinsic\"\n",
    "w2v_model = KeyedVectors.load_word2vec_format(w2v_path, binary=True)"
   ]
  },
  {
   "cell_type": "markdown",
   "id": "egIuNCMRBL3u",
   "metadata": {
    "id": "egIuNCMRBL3u"
   },
   "source": [
    "### Verify Loaded Word2Vec Model\n",
    "\n",
    "We confirm that the pretrained Word2Vec model has loaded successfully by printing the embedding dimensionality and vocabulary size.\n"
   ]
  },
  {
   "cell_type": "code",
   "execution_count": 17,
   "id": "17164137",
   "metadata": {
    "colab": {
     "base_uri": "https://localhost:8080/"
    },
    "id": "17164137",
    "outputId": "4710cb21-98fe-43b3-8d5b-7624d5382f44"
   },
   "outputs": [
    {
     "name": "stdout",
     "output_type": "stream",
     "text": [
      "Embedding vector size: 200\n",
      "Vocabulary size: 2324849 words\n"
     ]
    }
   ],
   "source": [
    "# checking vector size\n",
    "print(f\"Embedding vector size: {w2v_model.vector_size}\")\n",
    "\n",
    "# checking vocabulary size\n",
    "print(f\"Vocabulary size: {len(w2v_model.key_to_index)} words\")"
   ]
  },
  {
   "cell_type": "markdown",
   "id": "Ai999J2TBZ6c",
   "metadata": {
    "id": "Ai999J2TBZ6c"
   },
   "source": [
    "### Create Embedding Matrix with Pretrained Word2Vec Vectors"
   ]
  },
  {
   "cell_type": "code",
   "execution_count": 18,
   "id": "28cac8fb",
   "metadata": {
    "id": "28cac8fb"
   },
   "outputs": [],
   "source": [
    "import numpy as np\n",
    "\n",
    "# setting up embedding matrix\n",
    "embedding_dim = w2v_model.vector_size\n",
    "embedding_matrix = np.zeros((len(word_vocab), embedding_dim))\n",
    "\n",
    "\n",
    "# fill the matrix\n",
    "for word, idx in word_vocab.items():\n",
    "    if word in w2v_model:\n",
    "        embedding_matrix[idx] = w2v_model[word]\n",
    "    else:\n",
    "        embedding_matrix[idx] = np.random.normal(scale=0.6, size=(embedding_dim,))"
   ]
  },
  {
   "cell_type": "markdown",
   "id": "xY2zVhanBgZm",
   "metadata": {
    "id": "xY2zVhanBgZm"
   },
   "source": [
    "### Verify Embedding Matrix\n",
    "\n",
    "We verify that the embedding matrix has the correct shape, check how many words from our dataset are covered by the pretrained Word2Vec model, and inspect the embedding for a sample word.\n"
   ]
  },
  {
   "cell_type": "code",
   "execution_count": 19,
   "id": "84002ea5",
   "metadata": {
    "colab": {
     "base_uri": "https://localhost:8080/"
    },
    "id": "84002ea5",
    "outputId": "3bf9e7a2-0c39-4859-a6dc-57477079c216"
   },
   "outputs": [
    {
     "name": "stdout",
     "output_type": "stream",
     "text": [
      "Embedding matrix shape: (14742, 200)\n",
      "Coverage: 7463/14742 words (50.62%)\n",
      "Sample vector for 'glucose': [ 0.30148456  0.06259853  0.06257256  0.02667626 -0.30542654  0.30082998\n",
      " -0.14734118 -0.20231321  0.28477651 -0.29688197]\n"
     ]
    }
   ],
   "source": [
    "# 1. Check dimensions\n",
    "print(f\"Embedding matrix shape: {embedding_matrix.shape}\")\n",
    "assert embedding_matrix.shape[0] == len(word_vocab), \"Mismatch in vocab size!\"\n",
    "assert embedding_matrix.shape[1] == w2v_model.vector_size, \"Mismatch in embedding dim!\"\n",
    "\n",
    "# 2. Check OOV (out of vocab) words\n",
    "covered = sum(1 for word in word_vocab if word in w2v_model)\n",
    "total = len(word_vocab)\n",
    "print(f\"Coverage: {covered}/{total} words ({covered/total*100:.2f}%)\")\n",
    "\n",
    "# 3. Sample vector check\n",
    "sample_word = 'glucose'\n",
    "if sample_word in word_vocab:\n",
    "    idx = word_vocab[sample_word]\n",
    "    print(f\"Sample vector for '{sample_word}': {embedding_matrix[idx][:10]}\")\n",
    "else:\n",
    "    print(f\"'{sample_word}' not found in word_vocab\")"
   ]
  },
  {
   "cell_type": "markdown",
   "id": "-kYJhFBzBzBH",
   "metadata": {
    "id": "-kYJhFBzBzBH"
   },
   "source": [
    "### List Out OOV (Out-of-Vocabulary) Words"
   ]
  },
  {
   "cell_type": "code",
   "execution_count": 20,
   "id": "b3b55b55",
   "metadata": {
    "colab": {
     "base_uri": "https://localhost:8080/"
    },
    "id": "b3b55b55",
    "outputId": "6bad9877-520b-4536-c736-fa6db9410305"
   },
   "outputs": [
    {
     "name": "stdout",
     "output_type": "stream",
     "text": [
      "Total OOV words: 7279 / 14742\n",
      "Sample OOV words:\n",
      " 1. MRR\n",
      " 2. ,\n",
      " 3. ;\n",
      " 4. TBI\n",
      " 5. .\n",
      " 6. HPC\n",
      " 7. mOFC\n",
      " 8. OFC\n",
      " 9. PPI\n",
      "10. In\n",
      "11. 18β\n",
      "12. GA\n",
      "13. (\n",
      "14. AQP-3\n",
      "15. )\n",
      "16. Abbreviations\n",
      "17. :\n",
      "18. HC\n",
      "19. C\n",
      "20. KD\n"
     ]
    }
   ],
   "source": [
    "# List out OOV words\n",
    "oov_words = [word for word in word_vocab if word not in w2v_model]\n",
    "\n",
    "# Show a few (first 20)\n",
    "print(f\"Total OOV words: {len(oov_words)} / {len(word_vocab)}\")\n",
    "print(\"Sample OOV words:\")\n",
    "for i, word in enumerate(oov_words[:20]):\n",
    "    print(f\"{i+1:2d}. {word}\")"
   ]
  },
  {
   "cell_type": "markdown",
   "id": "rxI7neLCB_Yr",
   "metadata": {
    "id": "rxI7neLCB_Yr"
   },
   "source": [
    "### Analyze Frequency of OOV Words"
   ]
  },
  {
   "cell_type": "code",
   "execution_count": 21,
   "id": "b0ddec29",
   "metadata": {
    "colab": {
     "base_uri": "https://localhost:8080/"
    },
    "id": "b0ddec29",
    "outputId": "d760835d-7988-426a-96d8-4c94c38bd340"
   },
   "outputs": [
    {
     "name": "stdout",
     "output_type": "stream",
     "text": [
      " Top Frequent OOV Words:\n",
      ",               → 5206\n",
      "(               → 2965\n",
      ")               → 2930\n",
      ".               → 2321\n",
      ";               → 1989\n",
      "]               → 640\n",
      "[               → 620\n",
      ":               → 405\n",
      "The             → 315\n",
      "/               → 286\n",
      "=               → 260\n",
      "%               → 225\n",
      "–               → 151\n",
      "C               → 145\n",
      "Fig             → 117\n",
      "A               → 115\n",
      "We              → 107\n",
      "CI              → 103\n",
      "In              → 100\n",
      "RNA             → 81\n"
     ]
    }
   ],
   "source": [
    "# Assuming you have a `word_counter` (e.g., from collections.Counter)\n",
    "from collections import Counter\n",
    "\n",
    "# Build a frequency dict of just the OOV words\n",
    "oov_freq = {word: word_counter[word] for word in oov_words if word in word_counter}\n",
    "\n",
    "# Sort by frequency\n",
    "top_oov = sorted(oov_freq.items(), key=lambda x: -x[1])[:20]\n",
    "\n",
    "# Print top frequent OOVs\n",
    "print(\" Top Frequent OOV Words:\")\n",
    "for word, freq in top_oov:\n",
    "    print(f\"{word:15s} → {freq}\")\n"
   ]
  },
  {
   "cell_type": "markdown",
   "id": "zB4aZ_LrCHFZ",
   "metadata": {
    "id": "zB4aZ_LrCHFZ"
   },
   "source": [
    "### Check Word Presence in Pretrained Embedding Model"
   ]
  },
  {
   "cell_type": "code",
   "execution_count": 22,
   "id": "281f088e",
   "metadata": {
    "colab": {
     "base_uri": "https://localhost:8080/"
    },
    "id": "281f088e",
    "outputId": "068341ea-e598-4705-c429-55ace48951c7"
   },
   "outputs": [
    {
     "data": {
      "text/plain": [
       "{'Glucose': False,\n",
       " 'glucose': True,\n",
       " 'Insulin': False,\n",
       " 'insulin': True,\n",
       " 'COVID': False,\n",
       " 'covid': False}"
      ]
     },
     "execution_count": 22,
     "metadata": {},
     "output_type": "execute_result"
    }
   ],
   "source": [
    "# Let's inspect a few known biomedical words in the pretrained embedding model\n",
    "# We will look for both cased and lowercased versions\n",
    "\n",
    "words_to_check = [\"Glucose\", \"glucose\", \"Insulin\", \"insulin\", \"COVID\", \"covid\"]\n",
    "availability = {word: word in w2v_model for word in words_to_check}\n",
    "availability"
   ]
  },
  {
   "cell_type": "markdown",
   "id": "J72SP8JZCTeu",
   "metadata": {
    "id": "J72SP8JZCTeu"
   },
   "source": [
    "### Inspect Cosine Similarity Distribution of Random Word Pairs"
   ]
  },
  {
   "cell_type": "code",
   "execution_count": 23,
   "id": "7b02daca",
   "metadata": {
    "colab": {
     "base_uri": "https://localhost:8080/",
     "height": 472
    },
    "id": "7b02daca",
    "outputId": "6186fc12-bcf8-4202-f911-1b994ce88557"
   },
   "outputs": [
    {
     "data": {
      "image/png": "[encoded data removed]",
      "text/plain": [
       "<Figure size 640x480 with 1 Axes>"
      ]
     },
     "metadata": {},
     "output_type": "display_data"
    }
   ],
   "source": [
    "import random\n",
    "import matplotlib.pyplot as plt\n",
    "\n",
    "# Sample random word pairs\n",
    "words = random.sample(list(word_vocab.keys()), 1000)\n",
    "similarities = []\n",
    "for i in range(len(words)-1):\n",
    "    w1, w2 = words[i], words[i+1]\n",
    "    if w1 in w2v_model and w2 in w2v_model:\n",
    "        sim = w2v_model.similarity(w1, w2)\n",
    "        similarities.append(sim)\n",
    "\n",
    "# Plot\n",
    "plt.hist(similarities, bins=30)\n",
    "plt.title(\"Cosine Similarity Distribution (Extrinsic Embeddings)\")\n",
    "plt.xlabel(\"Cosine Similarity\")\n",
    "plt.ylabel(\"Frequency\")\n",
    "plt.grid(True)\n",
    "plt.show()"
   ]
  },
  {
   "cell_type": "markdown",
   "id": "tCGCga0jCb-h",
   "metadata": {
    "id": "tCGCga0jCb-h"
   },
   "source": [
    "### Explore Semantically Similar Words to \"Glucose\"\n",
    "\n",
    "We use the pretrained Word2Vec model to retrieve the top 5 most similar words to \"glucose\" based on cosine similarity. This helps verify the semantic quality of the embeddings in a biomedical context.\n"
   ]
  },
  {
   "cell_type": "code",
   "execution_count": 24,
   "id": "ead072ec",
   "metadata": {
    "colab": {
     "base_uri": "https://localhost:8080/"
    },
    "id": "ead072ec",
    "outputId": "7417a24c-7d79-4956-98e7-2f2aedd65e1b"
   },
   "outputs": [
    {
     "data": {
      "text/plain": [
       "[('qglucose', 0.8199415802955627),\n",
       " ('rglucose', 0.8195745944976807),\n",
       " ('glucose-time', 0.8183287978172302),\n",
       " ('iv-glucose', 0.8175548315048218),\n",
       " ('cglucose', 0.8104894757270813)]"
      ]
     },
     "execution_count": 24,
     "metadata": {},
     "output_type": "execute_result"
    }
   ],
   "source": [
    "w2v_model.most_similar('glucose', topn=5)"
   ]
  },
  {
   "cell_type": "markdown",
   "id": "N27LxEb0CqVu",
   "metadata": {
    "id": "N27LxEb0CqVu"
   },
   "source": [
    "### Visualize Similar Words to \"Glucose\" Using PCA"
   ]
  },
  {
   "cell_type": "code",
   "execution_count": 25,
   "id": "f0725aab",
   "metadata": {
    "colab": {
     "base_uri": "https://localhost:8080/",
     "height": 545
    },
    "id": "f0725aab",
    "outputId": "81655545-8d48-430f-aff8-90905bfb0a61"
   },
   "outputs": [
    {
     "data": {
      "image/png": "[encoded data removed]",
      "text/plain": [
       "<Figure size 800x600 with 1 Axes>"
      ]
     },
     "metadata": {},
     "output_type": "display_data"
    }
   ],
   "source": [
    "from sklearn.decomposition import PCA\n",
    "import matplotlib.pyplot as plt\n",
    "\n",
    "# Get top 5 most similar words\n",
    "word = 'glucose'\n",
    "topn = 5\n",
    "similar_words = w2v_model.most_similar(word, topn=topn)\n",
    "\n",
    "# Collect word vectors\n",
    "words = [word] + [w for w, _ in similar_words]  # include 'glucose' itself\n",
    "vectors = [w2v_model[w] for w in words]\n",
    "\n",
    "# Reduce dimensions to 2D\n",
    "pca = PCA(n_components=2)\n",
    "reduced_vectors = pca.fit_transform(vectors)\n",
    "\n",
    "# Plot\n",
    "plt.figure(figsize=(8, 6))\n",
    "for i, label in enumerate(words):\n",
    "    x, y = reduced_vectors[i]\n",
    "    plt.scatter(x, y)\n",
    "    plt.text(x + 0.01, y + 0.01, label, fontsize=12)\n",
    "\n",
    "plt.title(f\"2D PCA Projection of '{word}' and Top {topn} Similar Words\")\n",
    "plt.grid(True)\n",
    "plt.show()\n"
   ]
  },
  {
   "cell_type": "markdown",
   "id": "rjvvFuf9C_EN",
   "metadata": {
    "id": "rjvvFuf9C_EN"
   },
   "source": [
    "### Define a PyTorch Module for Pretrained Word Embeddings"
   ]
  },
  {
   "cell_type": "code",
   "execution_count": 26,
   "id": "40be31d7",
   "metadata": {
    "id": "40be31d7"
   },
   "outputs": [],
   "source": [
    "import torch.nn as nn\n",
    "class PretrainedWordEmbedding(nn.Module):\n",
    "    def __init__(self, embedding_matrix):\n",
    "        super().__init__()\n",
    "        self.word_embedding = nn.Embedding.from_pretrained(torch.FloatTensor(embedding_matrix), freeze=False)\n",
    "        self.output_dim = embedding_matrix.shape[1]\n",
    "\n",
    "    def forward(self, word_ids, char_ids=None):\n",
    "        return self.word_embedding(word_ids)\n"
   ]
  },
  {
   "cell_type": "markdown",
   "id": "527642b5",
   "metadata": {
    "id": "527642b5"
   },
   "source": [
    "## Combined words and char embeddings with ngram"
   ]
  },
  {
   "cell_type": "markdown",
   "id": "wheRIrgWDIK4",
   "metadata": {
    "id": "wheRIrgWDIK4"
   },
   "source": [
    "### Define a PyTorch Module for Pretrained Word Embeddings"
   ]
  },
  {
   "cell_type": "code",
   "execution_count": 27,
   "id": "b2179a71",
   "metadata": {
    "id": "b2179a71"
   },
   "outputs": [],
   "source": [
    "import torch\n",
    "import torch.nn as nn\n",
    "\n",
    "word_embedding = nn.Embedding(VOCAB_SIZE, DIM)"
   ]
  },
  {
   "cell_type": "markdown",
   "id": "VzdzCswIDWp4",
   "metadata": {
    "id": "VzdzCswIDWp4"
   },
   "source": [
    "### Build Character Vocabulary for Char-Level Embeddings"
   ]
  },
  {
   "cell_type": "code",
   "execution_count": 28,
   "id": "63a0d986",
   "metadata": {
    "id": "63a0d986"
   },
   "outputs": [],
   "source": [
    "chars = set([c for token in all_tokens for c in token])\n",
    "char_to_id = {char: idx + 2 for idx, char in enumerate(chars)}\n",
    "char_to_id['<PAD>'] = 0\n",
    "char_to_id['<UNK>'] = 1"
   ]
  },
  {
   "cell_type": "markdown",
   "id": "CtAcf9xXDqsb",
   "metadata": {
    "id": "CtAcf9xXDqsb"
   },
   "source": [
    "### Analyze Word Lengths for Character Embeddings\n",
    "\n",
    "We visualize the distribution of word lengths (in characters) to help choose a reasonable maximum length for character-level embeddings. The 99th percentile is marked to guide truncation and padding decisions for input words.\n"
   ]
  },
  {
   "cell_type": "code",
   "execution_count": 29,
   "id": "b9035d31",
   "metadata": {
    "colab": {
     "base_uri": "https://localhost:8080/",
     "height": 564
    },
    "id": "b9035d31",
    "outputId": "441bd686-6ede-4b51-a79f-242e52530877"
   },
   "outputs": [
    {
     "data": {
      "image/png": "[encoded data removed]",
      "text/plain": [
       "<Figure size 800x600 with 1 Axes>"
      ]
     },
     "metadata": {},
     "output_type": "display_data"
    }
   ],
   "source": [
    "word_lengths = [len(w) for w in all_tokens]\n",
    "\n",
    "plt.figure(figsize=(8, 6))\n",
    "sns.boxplot(x=word_lengths)\n",
    "plt.axvline(x=np.percentile(word_lengths, 99), color='red', linestyle='--', label='99th Percentile')\n",
    "plt.title(\"Distribution of word Lengths (Number of chars)\")\n",
    "plt.xlabel(\"word Length (Number of chars)\")\n",
    "plt.show()"
   ]
  },
  {
   "cell_type": "code",
   "execution_count": 30,
   "id": "db60ac44",
   "metadata": {
    "id": "db60ac44"
   },
   "outputs": [],
   "source": [
    "MAX_LENGTH_WORD = 15"
   ]
  },
  {
   "cell_type": "code",
   "execution_count": 31,
   "id": "b9a1d843",
   "metadata": {
    "id": "b9a1d843"
   },
   "outputs": [],
   "source": [
    "def word_to_char_ids(word, char_to_id):\n",
    "    char_ids = [char_to_id.get(c, char_to_id['<UNK>']) for c in word]\n",
    "    char_ids = char_ids[:MAX_LENGTH_WORD]\n",
    "    char_ids += [char_to_id['<PAD>']] * (MAX_LENGTH_WORD - len(char_ids))\n",
    "    return char_ids"
   ]
  },
  {
   "cell_type": "code",
   "execution_count": 32,
   "id": "8114f0d3",
   "metadata": {
    "id": "8114f0d3"
   },
   "outputs": [],
   "source": [
    "def convert_tokens_to_char_ids(dataset, id_to_token_fn, char_to_id, token_to_id): # Added token_to_id as argument\n",
    "    \"\"\"Convert token IDs in a dataset to lists of character IDs per token.\"\"\"\n",
    "    updated_dataset = []\n",
    "\n",
    "    # Create the id_to_token dictionary using token_to_id\n",
    "    id_to_token = {v: k for k, v in token_to_id.items()} # Create the id_to_token dictionary\n",
    "\n",
    "    for row in dataset:\n",
    "        token_ids = row['tokens']\n",
    "        char_id_seqs = []\n",
    "\n",
    "        for token_id in token_ids:\n",
    "            token = id_to_token.get(token_id, '<UNK>')\n",
    "            char_ids = word_to_char_ids(token, char_to_id)\n",
    "            char_id_seqs.append(char_ids)\n",
    "\n",
    "        updated_dataset.append({\n",
    "            'tokens': char_id_seqs,\n",
    "            'ner_tags': row['ner_tags']\n",
    "        })\n",
    "\n",
    "    return updated_dataset\n",
    "\n",
    "train_char_dataset = convert_tokens_to_char_ids(padded_train_data, id_to_token_fn, char_to_id, word_vocab)\n",
    "test_char_dataset = convert_tokens_to_char_ids(padded_test_data, id_to_token_fn, char_to_id, word_vocab)\n",
    "validate_char_dataset = convert_tokens_to_char_ids(padded_validate_data, id_to_token_fn, char_to_id, word_vocab)"
   ]
  },
  {
   "cell_type": "code",
   "execution_count": 33,
   "id": "6006ebfa",
   "metadata": {
    "id": "6006ebfa"
   },
   "outputs": [],
   "source": [
    "class WordAndCharEmbedding(nn.Module):\n",
    "    def __init__(self, word_vocab_size, word_embedding_dim, char_vocab_size, char_embedding_dim, hidden_dim):\n",
    "        super().__init__()\n",
    "\n",
    "        # word-level embedding\n",
    "        self.word_embedding = nn.Embedding(word_vocab_size, word_embedding_dim, padding_idx=0)\n",
    "\n",
    "        # char-level embedding\n",
    "        self.char_embedding = nn.Embedding(char_vocab_size, char_embedding_dim, padding_idx=0)\n",
    "        self.char_lstm = nn.LSTM(char_embedding_dim, hidden_dim // 2, bidirectional=True, batch_first=True, num_layers=1)\n",
    "\n",
    "        self.dropout = nn.Dropout(0.5)\n",
    "        self.output_dim = word_embedding_dim + hidden_dim\n",
    "\n",
    "    def forward(self, word_ids, char_ids):\n",
    "        batch_size, seq_len, max_word_len = char_ids.size()\n",
    "\n",
    "        word_emb = self.word_embedding(word_ids)                          # [B, L, D_word]\n",
    "        char_ids = char_ids.view(-1, max_word_len)                        # [B*L, max_len]\n",
    "        char_emb = self.char_embedding(char_ids)                          # [B*L, max_len, D_char]\n",
    "\n",
    "        _, (hidden, _) = self.char_lstm(char_emb)                         # hidden: [2, B*L, H/2]\n",
    "        char_repr = torch.cat([hidden[0], hidden[1]], dim=-1)             # [B*L, H]\n",
    "        char_repr = char_repr.view(batch_size, seq_len, -1)               # [B, L, H]\n",
    "\n",
    "        combined = torch.cat([word_emb, char_repr], dim=-1)               # [B, L, D_word + H]\n",
    "        return self.dropout(combined)\n"
   ]
  },
  {
   "cell_type": "code",
   "execution_count": 34,
   "id": "9bdf81fc",
   "metadata": {
    "id": "9bdf81fc"
   },
   "outputs": [],
   "source": [
    "word_char_embedding = WordAndCharEmbedding(\n",
    "    word_vocab_size=VOCAB_SIZE,\n",
    "    word_embedding_dim=DIM,  # Word embedding dimension\n",
    "    char_vocab_size=len(char_to_id),\n",
    "    char_embedding_dim=50,  # Character embedding dimension\n",
    "    hidden_dim=100           # Hidden dimension for char-level LSTM\n",
    ")\n",
    "\n",
    "embedding_dim = DIM + 100\n"
   ]
  },
  {
   "cell_type": "code",
   "execution_count": 35,
   "id": "f5b433d6",
   "metadata": {
    "colab": {
     "base_uri": "https://localhost:8080/"
    },
    "id": "f5b433d6",
    "outputId": "03081f92-c613-4bc8-e2c8-6d8d804d9d73"
   },
   "outputs": [
    {
     "name": "stdout",
     "output_type": "stream",
     "text": [
      "torch.Size([32, 50, 200])\n"
     ]
    }
   ],
   "source": [
    "word_ids = torch.randint(0, len(word_vocab), (32, 50))\n",
    "char_ids = torch.randint(0, len(char_to_id), (32, 50, 12))\n",
    "\n",
    "combined = word_char_embedding(word_ids, char_ids)\n",
    "print(combined.shape)"
   ]
  },
  {
   "cell_type": "markdown",
   "id": "9LXlt6-Iyh-I",
   "metadata": {
    "id": "9LXlt6-Iyh-I"
   },
   "source": [
    "## installing PyTorch-CRF"
   ]
  },
  {
   "cell_type": "code",
   "execution_count": 36,
   "id": "VWbr7pZux1fg",
   "metadata": {
    "colab": {
     "base_uri": "https://localhost:8080/"
    },
    "id": "VWbr7pZux1fg",
    "outputId": "2966e464-c0db-4ccd-c8f1-c496e0336bd3"
   },
   "outputs": [
    {
     "name": "stdout",
     "output_type": "stream",
     "text": [
      "Collecting git+https://github.com/kmkurn/pytorch-crf.git\n",
      "  Cloning https://github.com/kmkurn/pytorch-crf.git to /tmp/pip-req-build-b0ijf0bz\n",
      "  Running command git clone --filter=blob:none --quiet https://github.com/kmkurn/pytorch-crf.git /tmp/pip-req-build-b0ijf0bz\n",
      "  Resolved https://github.com/kmkurn/pytorch-crf.git to commit 623e3402d00a2728e99d6e8486010d67c754267b\n",
      "  Preparing metadata (setup.py) ... \u001b[?25l\u001b[?25hdone\n",
      "Building wheels for collected packages: pytorch-crf\n",
      "  Building wheel for pytorch-crf (setup.py) ... \u001b[?25l\u001b[?25hdone\n",
      "  Created wheel for pytorch-crf: filename=pytorch_crf-0.7.2-py3-none-any.whl size=6410 sha256=2a17320511458e8698dcb4c3867a14bff62adf18e251ece0831ebeb9bf0a6b08\n",
      "  Stored in directory: /tmp/pip-ephem-wheel-cache-bvm7fwt6/wheels/fd/83/cc/f11543939f8911b8dcff86e2bd54423e21f779d0938958cc7f\n",
      "Successfully built pytorch-crf\n",
      "Installing collected packages: pytorch-crf\n",
      "Successfully installed pytorch-crf-0.7.2\n"
     ]
    }
   ],
   "source": [
    " !pip install git+https://github.com/kmkurn/pytorch-crf.git"
   ]
  },
  {
   "cell_type": "markdown",
   "id": "500be474",
   "metadata": {
    "id": "500be474"
   },
   "source": [
    "## define model (crf + biLSTM)"
   ]
  },
  {
   "cell_type": "code",
   "execution_count": 36,
   "id": "9a6c7096",
   "metadata": {
    "id": "9a6c7096"
   },
   "outputs": [],
   "source": [
    "import torch\n",
    "import torch.nn as nn\n",
    "from torchcrf import CRF\n",
    "\n",
    "class BiLSTM_CRF(nn.Module):\n",
    "    def __init__(self, embedding_layer, hidden_dim, num_labels):\n",
    "        super().__init__()\n",
    "        self.embedding = embedding_layer\n",
    "        self.lstm = nn.LSTM(self.embedding.output_dim, hidden_dim // 2, batch_first=True, bidirectional=True)\n",
    "        self.hidden2tag = nn.Linear(hidden_dim, num_labels)\n",
    "        self.crf = CRF(num_labels, batch_first=True)\n",
    "\n",
    "    def forward(self, word_ids, char_ids=None, labels=None, mask=None):\n",
    "        if char_ids is not None:\n",
    "            embeddings = self.embedding(word_ids, char_ids)\n",
    "        else:\n",
    "            embeddings = self.embedding(word_ids)\n",
    "        lstm_out, _ = self.lstm(embeddings)\n",
    "        emissions = self.hidden2tag(lstm_out)\n",
    "\n",
    "        if labels is not None:\n",
    "            return -self.crf(emissions, labels, mask=mask, reduction='mean')\n",
    "        else:\n",
    "            return self.crf.decode(emissions, mask=mask)\n"
   ]
  },
  {
   "cell_type": "markdown",
   "id": "OPuJMmF3y6ES",
   "metadata": {
    "id": "OPuJMmF3y6ES"
   },
   "source": [
    "### NERDataset Class\n",
    "\n",
    "This class defines a custom PyTorch `Dataset` for Named Entity Recognition (NER) tasks.\n",
    "\n",
    "- **Inputs:**\n",
    "  - `word_data`: A list of dictionaries containing word-level token IDs, NER tags, and attention masks.\n",
    "  - `char_data` *(optional)*: A list of dictionaries containing character-level token IDs for each word.\n",
    "\n",
    "- **Output:**\n",
    "  - If `char_data` is provided: returns a tuple `(tokens, char_ids, ner_tags, mask)`\n",
    "  - Otherwise: returns `(tokens, ner_tags, mask)`\n",
    "\n",
    "The dataset is designed to be compatible with `DataLoader` for efficient batching during training or evaluation.\n"
   ]
  },
  {
   "cell_type": "code",
   "execution_count": 37,
   "id": "c87a3ca2",
   "metadata": {
    "id": "c87a3ca2"
   },
   "outputs": [],
   "source": [
    "from torch.utils.data import Dataset\n",
    "\n",
    "class NERDataset(Dataset):\n",
    "    def __init__(self, word_data, char_data=None):\n",
    "        self.word_data = word_data\n",
    "        self.char_data = char_data\n",
    "\n",
    "    def __len__(self):\n",
    "        return len(self.word_data)\n",
    "\n",
    "    def __getitem__(self, idx):\n",
    "        word_item = self.word_data[idx]\n",
    "        tokens = torch.tensor(word_item['tokens'], dtype=torch.long)\n",
    "        ner_tags = torch.tensor(word_item['ner_tags'], dtype=torch.long)\n",
    "        mask = torch.tensor(word_item['mask'], dtype=torch.bool)\n",
    "\n",
    "        if self.char_data is not None:\n",
    "            char_item = self.char_data[idx]\n",
    "            char_ids = torch.tensor(char_item['tokens'], dtype=torch.long)\n",
    "            return tokens, char_ids, ner_tags, mask\n",
    "        else:\n",
    "            return tokens, ner_tags, mask"
   ]
  },
  {
   "cell_type": "markdown",
   "id": "Clmffhxa2zkD",
   "metadata": {
    "id": "Clmffhxa2zkD"
   },
   "source": [
    "## Dataset Initialization\n",
    "\n",
    "We create three instances of the custom `NERDataset` class for training, validation, and test splits.\n",
    "\n",
    "Each dataset takes:\n",
    "- `padded_*_data`: Word-level input data with token IDs, NER tags, and attention masks.\n",
    "- `*_char_dataset`: (Optional) Character-level input data for each word, useful for models that incorporate sub-word features.\n",
    "\n",
    "\n"
   ]
  },
  {
   "cell_type": "code",
   "execution_count": 38,
   "id": "34582f1c",
   "metadata": {
    "id": "34582f1c"
   },
   "outputs": [],
   "source": [
    "train_dataset = NERDataset(padded_train_data, train_char_dataset)\n",
    "test_dataset = NERDataset(padded_test_data, test_char_dataset)\n",
    "validate_dataset = NERDataset(padded_validate_data, validate_char_dataset)"
   ]
  },
  {
   "cell_type": "markdown",
   "id": "UouvmGh63Pyi",
   "metadata": {
    "id": "UouvmGh63Pyi"
   },
   "source": [
    "### Custom Collate Function\n",
    "\n",
    "This `collate_fn` is used with PyTorch `DataLoader` to batch variable-length samples from the `NERDataset`.\n",
    "\n",
    "It supports both:\n",
    "- Word-only input: `(tokens, ner_tags, mask)`\n",
    "- Word + character input: `(tokens, char_ids, ner_tags, mask)`\n",
    "\n",
    "The function stacks the tensors along the batch dimension for each field, allowing the model to process input in mini-batches.\n"
   ]
  },
  {
   "cell_type": "code",
   "execution_count": 39,
   "id": "7210f068",
   "metadata": {
    "id": "7210f068"
   },
   "outputs": [],
   "source": [
    "def collate_fn(batch):\n",
    "    if len(batch[0]) == 4:\n",
    "        tokens, char_ids, ner_tags, masks = zip(*batch)\n",
    "        return (\n",
    "            torch.stack(tokens),\n",
    "            torch.stack(char_ids),\n",
    "            torch.stack(ner_tags),\n",
    "            torch.stack(masks)\n",
    "        )\n",
    "    else:\n",
    "        tokens, ner_tags, masks = zip(*batch)\n",
    "        return (\n",
    "            torch.stack(tokens),\n",
    "            torch.stack(ner_tags),\n",
    "            torch.stack(masks)\n",
    "        )\n"
   ]
  },
  {
   "cell_type": "markdown",
   "id": "f7fd58d4",
   "metadata": {
    "id": "f7fd58d4"
   },
   "source": [
    "## training and evaluation"
   ]
  },
  {
   "cell_type": "code",
   "execution_count": 40,
   "id": "81e82bcc",
   "metadata": {
    "id": "81e82bcc"
   },
   "outputs": [],
   "source": [
    "# Hyperparameters\n",
    "NUM_EPOCHS = 10\n",
    "BATCH_SIZE = 32"
   ]
  },
  {
   "cell_type": "markdown",
   "id": "ugdbvnph3mKk",
   "metadata": {
    "id": "ugdbvnph3mKk"
   },
   "source": [
    "## Evaluation function"
   ]
  },
  {
   "cell_type": "code",
   "execution_count": 41,
   "id": "c6f8b093",
   "metadata": {
    "id": "c6f8b093"
   },
   "outputs": [],
   "source": [
    "from sklearn.metrics import f1_score, accuracy_score\n",
    "\n",
    "def evaluate_model(model, dataloader, id_to_tag=None):\n",
    "    model.eval()\n",
    "    all_preds = []\n",
    "    all_labels = []\n",
    "\n",
    "    with torch.no_grad():\n",
    "        for batch in dataloader:\n",
    "            if len(batch) == 4:\n",
    "                tokens, char_ids, tags, mask = batch\n",
    "                predictions = model(tokens, char_ids=char_ids, mask=mask)\n",
    "            else:\n",
    "                tokens, tags, mask = batch\n",
    "                predictions = model(tokens, mask=mask)\n",
    "\n",
    "            for pred_seq, true_seq, m in zip(predictions, tags, mask):\n",
    "                seq_len = m.sum().item()\n",
    "                pred = pred_seq[:seq_len]\n",
    "                true = true_seq[:seq_len].tolist()\n",
    "\n",
    "                all_preds.extend(pred)\n",
    "                all_labels.extend(true)\n",
    "\n",
    "    model.train()\n",
    "\n",
    "    f1 =  f1_score(all_labels, all_preds, average=\"macro\")\n",
    "\n",
    "    return f1\n"
   ]
  },
  {
   "cell_type": "markdown",
   "id": "rcvgHxKw4U4u",
   "metadata": {
    "id": "rcvgHxKw4U4u"
   },
   "source": [
    "### Training Function\n",
    "\n",
    "The `train_model` function handles the full training loop for the NER model."
   ]
  },
  {
   "cell_type": "markdown",
   "id": "8e55fd79",
   "metadata": {},
   "source": [
    "## save model to huggingface hub\n",
    "\n",
    "it this section to make the marking easier and less time consuming. we have intoduced a new function `save_model_to_huggingface_hub` that will save the model to the huggingface hub.\n",
    "if you dont want to wait for the model to be trained you can skip this section and run the next cell to load the model from the huggingface hub"
   ]
  },
  {
   "cell_type": "code",
   "execution_count": 42,
   "id": "f21a0dc4",
   "metadata": {},
   "outputs": [],
   "source": [
    "from huggingface_hub import create_repo, upload_file\n",
    "import torch\n",
    "\n",
    "def save_model_to_hub(model, model_name, repo_name='nlp-pg04', username='amirghasemiveisi'):\n",
    "    \"\"\"\n",
    "    Save a PyTorch model to the Hugging Face Hub.\n",
    "    \n",
    "    Args:\n",
    "        model: Trained PyTorch model (nn.Module)\n",
    "        model_name: The name of the model (used as file name and commit label)\n",
    "        repo_name: The Hugging Face repo name (within your account)\n",
    "        username: Your Hugging Face username\n",
    "    \"\"\"\n",
    "    \n",
    "    model_file = f\"{model_name}.pt\"\n",
    "    torch.save(model.state_dict(), model_file)\n",
    "\n",
    "    \n",
    "    repo_id = f\"{username}/{repo_name}\"\n",
    "\n",
    "    \n",
    "    create_repo(repo_id, exist_ok=True)\n",
    "\n",
    "    \n",
    "    upload_file(\n",
    "        path_or_fileobj=model_file,\n",
    "        path_in_repo=\"pytorch_model.bin\",\n",
    "        repo_id=repo_id,\n",
    "        repo_type=\"model\",\n",
    "        commit_message=f\"Upload model {model_name}\",\n",
    "    )\n",
    "\n",
    "    print(f\"Uploaded to https://huggingface.co/{repo_id}/blob/main/pytorch_model.bin\")"
   ]
  },
  {
   "cell_type": "code",
   "execution_count": 43,
   "id": "3f7dd5a5",
   "metadata": {
    "id": "3f7dd5a5"
   },
   "outputs": [],
   "source": [
    "import torch\n",
    "\n",
    "def train_model(\n",
    "    model,\n",
    "    train_loader,\n",
    "    optimizer,\n",
    "    num_epochs=5,\n",
    "    val_loader=None,\n",
    "    id_to_tag=None,\n",
    "    save_path=\"best_model.pt\"\n",
    "):\n",
    "    best_f1 = -1.0\n",
    "    train_loss = []\n",
    "    f1_scores = []\n",
    "    for epoch in range(num_epochs):\n",
    "\n",
    "        model.train()\n",
    "        total_loss = 0\n",
    "\n",
    "        for i, batch in enumerate(train_loader):\n",
    "            optimizer.zero_grad()\n",
    "\n",
    "            if len(batch) == 4:\n",
    "                tokens, char_ids, tags, mask = batch\n",
    "                loss = model(tokens, char_ids=char_ids, labels=tags, mask=mask)\n",
    "            else:\n",
    "                tokens, tags, mask = batch\n",
    "                loss = model(tokens, labels=tags, mask=mask)\n",
    "\n",
    "            loss.backward()\n",
    "            optimizer.step()\n",
    "            train_loss.append(loss.item())\n",
    "            total_loss += loss.item()\n",
    "\n",
    "        print(f\"Epoch {epoch + 1}, Training Loss: {total_loss:.4f}\")\n",
    "\n",
    "        if val_loader is not None and id_to_tag is not None:\n",
    "            f1_score = evaluate_model(model, val_loader, id_to_tag)\n",
    "            f1_scores.append(f1_score)\n",
    "            print(f\"f1 score  - {f1_score}\")\n",
    "\n",
    "            # Save best model by F1\n",
    "            if f1_score > best_f1:\n",
    "                best_f1 = f1_score\n",
    "                torch.save(model.state_dict(), save_path)\n",
    "                print(f\"Best model updated and saved to: {save_path}\")\n",
    "    return train_loss, f1_scores\n"
   ]
  },
  {
   "cell_type": "code",
   "execution_count": 44,
   "id": "77b404aa",
   "metadata": {
    "id": "77b404aa"
   },
   "outputs": [],
   "source": [
    "## Dataloader initialisation\n",
    "\n",
    "from torch.utils.data import DataLoader\n",
    "train_loader = DataLoader(train_dataset, batch_size=BATCH_SIZE, shuffle=True, collate_fn=collate_fn)\n",
    "test_loader = DataLoader(test_dataset, batch_size=BATCH_SIZE, shuffle=False, collate_fn=collate_fn)\n",
    "validate_loader = DataLoader(validate_dataset, batch_size=BATCH_SIZE, shuffle=False, collate_fn=collate_fn)"
   ]
  },
  {
   "cell_type": "markdown",
   "id": "McPz1P-s-Q0q",
   "metadata": {
    "id": "McPz1P-s-Q0q"
   },
   "source": [
    "### Training BiLSTM-CRF with Pretrained Word Embeddings"
   ]
  },
  {
   "cell_type": "markdown",
   "id": "7b614207",
   "metadata": {},
   "source": [
    "the variable `LOAD_FROM_HUGGINGFACE` is set to `True` to load the model from the huggingface hub. if you want to train the model from scratch set it to `False` and run the cell below.\n",
    "`LOAD_FROM_HUGGINGFACE = True`"
   ]
  },
  {
   "cell_type": "code",
   "execution_count": 45,
   "id": "b5a2d548",
   "metadata": {},
   "outputs": [],
   "source": [
    "LOAD_FROM_HUGGINGFACE = True\n",
    "SAVE_TO_HUGGINGFACE = True"
   ]
  },
  {
   "cell_type": "code",
   "execution_count": 46,
   "id": "5a1cab00",
   "metadata": {},
   "outputs": [
    {
     "name": "stdout",
     "output_type": "stream",
     "text": [
      "Loading model from Hugging Face Hub...\n"
     ]
    },
    {
     "ename": "RuntimeError",
     "evalue": "Error(s) in loading state_dict for BiLSTM_CRF:\n\tUnexpected key(s) in state_dict: \"embedding.char_embedding.weight\", \"embedding.char_lstm.weight_ih_l0\", \"embedding.char_lstm.weight_hh_l0\", \"embedding.char_lstm.bias_ih_l0\", \"embedding.char_lstm.bias_hh_l0\", \"embedding.char_lstm.weight_ih_l0_reverse\", \"embedding.char_lstm.weight_hh_l0_reverse\", \"embedding.char_lstm.bias_ih_l0_reverse\", \"embedding.char_lstm.bias_hh_l0_reverse\". \n\tsize mismatch for embedding.word_embedding.weight: copying a param with shape torch.Size([14742, 100]) from checkpoint, the shape in current model is torch.Size([14742, 200]).",
     "output_type": "error",
     "traceback": [
      "\u001b[31m---------------------------------------------------------------------------\u001b[39m",
      "\u001b[31mRuntimeError\u001b[39m                              Traceback (most recent call last)",
      "\u001b[36mCell\u001b[39m\u001b[36m \u001b[39m\u001b[32mIn[46]\u001b[39m\u001b[32m, line 36\u001b[39m\n\u001b[32m     30\u001b[39m \u001b[38;5;28mprint\u001b[39m(\u001b[33m\"\u001b[39m\u001b[33mLoading model from Hugging Face Hub...\u001b[39m\u001b[33m\"\u001b[39m)\n\u001b[32m     31\u001b[39m model_path = hf_hub_download(\n\u001b[32m     32\u001b[39m     repo_id=REPO_ID,\n\u001b[32m     33\u001b[39m     filename=\u001b[33m\"\u001b[39m\u001b[33mpytorch_model.bin\u001b[39m\u001b[33m\"\u001b[39m,\n\u001b[32m     34\u001b[39m     repo_type=\u001b[33m\"\u001b[39m\u001b[33mmodel\u001b[39m\u001b[33m\"\u001b[39m\n\u001b[32m     35\u001b[39m )\n\u001b[32m---> \u001b[39m\u001b[32m36\u001b[39m \u001b[43mmodel_w2v\u001b[49m\u001b[43m.\u001b[49m\u001b[43mload_state_dict\u001b[49m\u001b[43m(\u001b[49m\u001b[43mtorch\u001b[49m\u001b[43m.\u001b[49m\u001b[43mload\u001b[49m\u001b[43m(\u001b[49m\u001b[43mmodel_path\u001b[49m\u001b[43m)\u001b[49m\u001b[43m)\u001b[49m\n\u001b[32m     37\u001b[39m model_w2v.eval()\n\u001b[32m     38\u001b[39m \u001b[38;5;28mprint\u001b[39m(\u001b[33m\"\u001b[39m\u001b[33mModel loaded from Hugging Face.\u001b[39m\u001b[33m\"\u001b[39m)\n",
      "\u001b[36mFile \u001b[39m\u001b[32m~/Desktop/data-science/second-semester/NLP/coursework/nlp_pg04/venv/lib/python3.12/site-packages/torch/nn/modules/module.py:2593\u001b[39m, in \u001b[36mModule.load_state_dict\u001b[39m\u001b[34m(self, state_dict, strict, assign)\u001b[39m\n\u001b[32m   2585\u001b[39m         error_msgs.insert(\n\u001b[32m   2586\u001b[39m             \u001b[32m0\u001b[39m,\n\u001b[32m   2587\u001b[39m             \u001b[33m\"\u001b[39m\u001b[33mMissing key(s) in state_dict: \u001b[39m\u001b[38;5;132;01m{}\u001b[39;00m\u001b[33m. \u001b[39m\u001b[33m\"\u001b[39m.format(\n\u001b[32m   2588\u001b[39m                 \u001b[33m\"\u001b[39m\u001b[33m, \u001b[39m\u001b[33m\"\u001b[39m.join(\u001b[33mf\u001b[39m\u001b[33m'\u001b[39m\u001b[33m\"\u001b[39m\u001b[38;5;132;01m{\u001b[39;00mk\u001b[38;5;132;01m}\u001b[39;00m\u001b[33m\"\u001b[39m\u001b[33m'\u001b[39m \u001b[38;5;28;01mfor\u001b[39;00m k \u001b[38;5;129;01min\u001b[39;00m missing_keys)\n\u001b[32m   2589\u001b[39m             ),\n\u001b[32m   2590\u001b[39m         )\n\u001b[32m   2592\u001b[39m \u001b[38;5;28;01mif\u001b[39;00m \u001b[38;5;28mlen\u001b[39m(error_msgs) > \u001b[32m0\u001b[39m:\n\u001b[32m-> \u001b[39m\u001b[32m2593\u001b[39m     \u001b[38;5;28;01mraise\u001b[39;00m \u001b[38;5;167;01mRuntimeError\u001b[39;00m(\n\u001b[32m   2594\u001b[39m         \u001b[33m\"\u001b[39m\u001b[33mError(s) in loading state_dict for \u001b[39m\u001b[38;5;132;01m{}\u001b[39;00m\u001b[33m:\u001b[39m\u001b[38;5;130;01m\\n\u001b[39;00m\u001b[38;5;130;01m\\t\u001b[39;00m\u001b[38;5;132;01m{}\u001b[39;00m\u001b[33m\"\u001b[39m.format(\n\u001b[32m   2595\u001b[39m             \u001b[38;5;28mself\u001b[39m.\u001b[34m__class__\u001b[39m.\u001b[34m__name__\u001b[39m, \u001b[33m\"\u001b[39m\u001b[38;5;130;01m\\n\u001b[39;00m\u001b[38;5;130;01m\\t\u001b[39;00m\u001b[33m\"\u001b[39m.join(error_msgs)\n\u001b[32m   2596\u001b[39m         )\n\u001b[32m   2597\u001b[39m     )\n\u001b[32m   2598\u001b[39m \u001b[38;5;28;01mreturn\u001b[39;00m _IncompatibleKeys(missing_keys, unexpected_keys)\n",
      "\u001b[31mRuntimeError\u001b[39m: Error(s) in loading state_dict for BiLSTM_CRF:\n\tUnexpected key(s) in state_dict: \"embedding.char_embedding.weight\", \"embedding.char_lstm.weight_ih_l0\", \"embedding.char_lstm.weight_hh_l0\", \"embedding.char_lstm.bias_ih_l0\", \"embedding.char_lstm.bias_hh_l0\", \"embedding.char_lstm.weight_ih_l0_reverse\", \"embedding.char_lstm.weight_hh_l0_reverse\", \"embedding.char_lstm.bias_ih_l0_reverse\", \"embedding.char_lstm.bias_hh_l0_reverse\". \n\tsize mismatch for embedding.word_embedding.weight: copying a param with shape torch.Size([14742, 100]) from checkpoint, the shape in current model is torch.Size([14742, 200])."
     ]
    }
   ],
   "source": [
    "from torch.optim import Adam\n",
    "from huggingface_hub import hf_hub_download\n",
    "import torch\n",
    "import os\n",
    "\n",
    "MODEL_NAME = \"w2v_model\"\n",
    "REPO_ID = \"amirghasemiveisi/nlp-pg04\"\n",
    "LOCAL_MODEL_PATH = \"w2v_model.pt\"\n",
    "\n",
    "\n",
    "w2v_embedding = PretrainedWordEmbedding(embedding_matrix)\n",
    "\n",
    "model_w2v = BiLSTM_CRF(\n",
    "    embedding_layer=w2v_embedding,\n",
    "    hidden_dim=256,\n",
    "    num_labels=len(tag_to_id)\n",
    ")\n",
    "\n",
    "\n",
    "with torch.no_grad():\n",
    "    model_w2v.crf.start_transitions[tag_to_id['B-AC']] -= 2.0\n",
    "    model_w2v.crf.transitions[tag_to_id['O'], tag_to_id['I-LF']] -= 2.0\n",
    "    model_w2v.crf.transitions[tag_to_id['I-LF'], tag_to_id['B-AC']] -= 2.0\n",
    "\n",
    "\n",
    "optimizer_w2v = Adam(model_w2v.parameters(), lr=0.001)\n",
    "\n",
    "# Load from HF if enabled\n",
    "if LOAD_FROM_HUGGINGFACE:\n",
    "    print(\"Loading model from Hugging Face Hub...\")\n",
    "    model_path = hf_hub_download(\n",
    "        repo_id=REPO_ID,\n",
    "        filename=\"pytorch_model.bin\",\n",
    "        repo_type=\"model\"\n",
    "    )\n",
    "    model_w2v.load_state_dict(torch.load(model_path))\n",
    "    model_w2v.eval()\n",
    "    print(\"Model loaded from Hugging Face.\")\n",
    "\n",
    "else:\n",
    "    print(\"Training model locally...\")\n",
    "    w2v_loss, w2v_f1 = train_model(\n",
    "        model_w2v,\n",
    "        train_loader,\n",
    "        optimizer_w2v,\n",
    "        num_epochs=NUM_EPOCHS,\n",
    "        val_loader=validate_loader,\n",
    "        id_to_tag=tag_to_id,\n",
    "        save_path=LOCAL_MODEL_PATH\n",
    "    )\n",
    "    print(\"Training complete.\")\n",
    "    \n",
    "    model_w2v.load_state_dict(torch.load(LOCAL_MODEL_PATH))\n",
    "\n",
    "    # Save to Hugging Face if enabled\n",
    "    if SAVE_TO_HUGGINGFACE:\n",
    "        print(\"Uploading model to Hugging Face Hub...\")\n",
    "        save_model_to_hub(\n",
    "            model=model_w2v,\n",
    "            model_name=MODEL_NAME,\n",
    "            repo_name=\"nlp-pg04\",\n",
    "            username=\"amirghasemiveisi\"\n",
    "        )"
   ]
  },
  {
   "cell_type": "markdown",
   "id": "w17rfHup-lKI",
   "metadata": {
    "id": "w17rfHup-lKI"
   },
   "source": [
    "### Training BiLSTM-CRF with Combined Word and Character Embeddings"
   ]
  },
  {
   "cell_type": "code",
   "execution_count": 61,
   "id": "d8d79823",
   "metadata": {
    "colab": {
     "base_uri": "https://localhost:8080/"
    },
    "id": "d8d79823",
    "outputId": "3d687c41-2ab3-42ec-f25d-775b9989e1da"
   },
   "outputs": [],
   "source": [
    "from huggingface_hub import hf_hub_download\n",
    "from torch.optim import Adam\n",
    "import torch\n",
    "\n",
    "MODEL_NAME_COMBINED = \"combined_model\"\n",
    "REPO_ID_COMBINED = \"amirghasemiveisi/nlp-pg04\"\n",
    "LOCAL_MODEL_PATH_COMBINED = \"combined_model.pt\"\n",
    "\n",
    "combined_embedding = WordAndCharEmbedding(\n",
    "    word_vocab_size=VOCAB_SIZE,\n",
    "    word_embedding_dim=DIM,\n",
    "    char_vocab_size=len(char_to_id),\n",
    "    char_embedding_dim=50,\n",
    "    hidden_dim=100\n",
    ")\n",
    "\n",
    "model_combined = BiLSTM_CRF(\n",
    "    embedding_layer=combined_embedding,\n",
    "    hidden_dim=256,\n",
    "    num_labels=len(tag_to_id)\n",
    ")\n",
    "\n",
    "with torch.no_grad():\n",
    "    model_combined.crf.start_transitions[tag_to_id['B-AC']] -= 2.0\n",
    "    model_combined.crf.transitions[tag_to_id['O'], tag_to_id['I-LF']] -= 2.0\n",
    "    model_combined.crf.transitions[tag_to_id['I-LF'], tag_to_id['B-AC']] -= 2.0\n",
    "\n",
    "train_loader = DataLoader(\n",
    "    train_dataset,\n",
    "    batch_size=32,\n",
    "    shuffle=True,\n",
    "    collate_fn=collate_fn\n",
    ")\n",
    "\n",
    "optimizer_combined = Adam(model_combined.parameters(), lr=0.001)\n",
    "\n",
    "if LOAD_FROM_HUGGINGFACE:\n",
    "    model_path = hf_hub_download(\n",
    "        repo_id=REPO_ID_COMBINED,\n",
    "        filename=\"pytorch_model.bin\",\n",
    "        repo_type=\"model\"\n",
    "    )\n",
    "    model_combined.load_state_dict(torch.load(model_path))\n",
    "    model_combined.eval()\n",
    "else:\n",
    "    combined_loss, combined_f1 = train_model(\n",
    "        model_combined,\n",
    "        train_loader,\n",
    "        optimizer_combined,\n",
    "        num_epochs=NUM_EPOCHS,\n",
    "        val_loader=validate_loader,\n",
    "        id_to_tag=tag_to_id,\n",
    "        save_path=LOCAL_MODEL_PATH_COMBINED\n",
    "    )\n",
    "\n",
    "    model_combined.load_state_dict(torch.load(LOCAL_MODEL_PATH_COMBINED))\n",
    "\n",
    "    if SAVE_TO_HUGGINGFACE:\n",
    "        save_model_to_hub(\n",
    "            model=model_combined,\n",
    "            model_name=MODEL_NAME_COMBINED,\n",
    "            repo_name=\"nlp-pg04\",\n",
    "            username=\"amirghasemiveisi\"\n",
    "        )"
   ]
  },
  {
   "cell_type": "markdown",
   "id": "OrIkmE1u-zU-",
   "metadata": {
    "id": "OrIkmE1u-zU-"
   },
   "source": [
    "### Tag ID to Label Mapping"
   ]
  },
  {
   "cell_type": "code",
   "execution_count": 62,
   "id": "d56ecb16",
   "metadata": {
    "id": "d56ecb16"
   },
   "outputs": [],
   "source": [
    "id2tag = {v: k for k, v in tag_to_id.items()}"
   ]
  },
  {
   "cell_type": "code",
   "execution_count": 50,
   "id": "iNimq_tPP86m",
   "metadata": {
    "colab": {
     "base_uri": "https://localhost:8080/"
    },
    "id": "iNimq_tPP86m",
    "outputId": "11bb6cfc-0e0c-4f68-e287-4f8a49ee3071"
   },
   "outputs": [
    {
     "name": "stdout",
     "output_type": "stream",
     "text": [
      "Collecting seqeval\n",
      "  Downloading seqeval-1.2.2.tar.gz (43 kB)\n",
      "\u001b[?25l     \u001b[90m━━━━━━━━━━━━━━━━━━━━━━━━━━━━━━━━━━━━━━━━\u001b[0m \u001b[32m0.0/43.6 kB\u001b[0m \u001b[31m?\u001b[0m eta \u001b[36m-:--:--\u001b[0m\r",
      "\u001b[2K     \u001b[90m━━━━━━━━━━━━━━━━━━━━━━━━━━━━━━━━━━━━━━━━\u001b[0m \u001b[32m43.6/43.6 kB\u001b[0m \u001b[31m1.2 MB/s\u001b[0m eta \u001b[36m0:00:00\u001b[0m\n",
      "\u001b[?25h  Preparing metadata (setup.py) ... \u001b[?25l\u001b[?25hdone\n",
      "Requirement already satisfied: numpy>=1.14.0 in /usr/local/lib/python3.11/dist-packages (from seqeval) (1.24.4)\n",
      "Requirement already satisfied: scikit-learn>=0.21.3 in /usr/local/lib/python3.11/dist-packages (from seqeval) (1.6.1)\n",
      "Requirement already satisfied: scipy>=1.6.0 in /usr/local/lib/python3.11/dist-packages (from scikit-learn>=0.21.3->seqeval) (1.13.1)\n",
      "Requirement already satisfied: joblib>=1.2.0 in /usr/local/lib/python3.11/dist-packages (from scikit-learn>=0.21.3->seqeval) (1.4.2)\n",
      "Requirement already satisfied: threadpoolctl>=3.1.0 in /usr/local/lib/python3.11/dist-packages (from scikit-learn>=0.21.3->seqeval) (3.6.0)\n",
      "Building wheels for collected packages: seqeval\n",
      "  Building wheel for seqeval (setup.py) ... \u001b[?25l\u001b[?25hdone\n",
      "  Created wheel for seqeval: filename=seqeval-1.2.2-py3-none-any.whl size=16162 sha256=68443fa90554db683bc4c2112b66324ea2767c35da67a7dfed9a1825e8f5d536\n",
      "  Stored in directory: /root/.cache/pip/wheels/bc/92/f0/243288f899c2eacdfa8c5f9aede4c71a9bad0ee26a01dc5ead\n",
      "Successfully built seqeval\n",
      "Installing collected packages: seqeval\n",
      "Successfully installed seqeval-1.2.2\n"
     ]
    }
   ],
   "source": [
    "!pip install seqeval\n"
   ]
  },
  {
   "cell_type": "markdown",
   "id": "rSCCXDQX--lJ",
   "metadata": {
    "id": "rSCCXDQX--lJ"
   },
   "source": [
    "### Evaluation Using `seqeval`"
   ]
  },
  {
   "cell_type": "code",
   "execution_count": 63,
   "id": "06e11df0",
   "metadata": {
    "id": "06e11df0"
   },
   "outputs": [],
   "source": [
    "from seqeval.metrics import classification_report\n",
    "\n",
    "def evaluate_seqeval(model, dataloader, tag_to_id):\n",
    "    id2tag = {v: k for k, v in tag_to_id.items()}\n",
    "    model.eval()\n",
    "    all_preds = []\n",
    "    all_labels = []\n",
    "\n",
    "    with torch.no_grad():\n",
    "        for batch in dataloader:\n",
    "            if len(batch) == 4:\n",
    "                tokens, char_ids, tags, mask = batch\n",
    "                preds = model(tokens, char_ids=char_ids, mask=mask)\n",
    "            else:\n",
    "                tokens, tags, mask = batch\n",
    "                preds = model(tokens, mask=mask)\n",
    "\n",
    "            for pred_seq, true_seq, m in zip(preds, tags, mask):\n",
    "                seq_len = m.sum().item()\n",
    "                pred_tags = [id2tag[p] for p in pred_seq[:seq_len]]\n",
    "                true_tags = [id2tag[t.item()] for t in true_seq[:seq_len]]\n",
    "\n",
    "                all_preds.append(pred_tags)\n",
    "                all_labels.append(true_tags)\n",
    "\n",
    "    model.train()\n",
    "    print(classification_report(all_labels, all_preds))\n"
   ]
  },
  {
   "cell_type": "markdown",
   "id": "EeLLIK5zBLPx",
   "metadata": {
    "id": "EeLLIK5zBLPx"
   },
   "source": [
    "### Final Evaluation on Test Set"
   ]
  },
  {
   "cell_type": "code",
   "execution_count": 64,
   "id": "2b3639f3",
   "metadata": {
    "colab": {
     "base_uri": "https://localhost:8080/"
    },
    "id": "2b3639f3",
    "outputId": "557d9cd5-f46d-4795-8e87-1469c197223b"
   },
   "outputs": [
    {
     "name": "stdout",
     "output_type": "stream",
     "text": [
      "Evaluation for Word2Vec embedding:\n",
      "              precision    recall  f1-score   support\n",
      "\n",
      "          AC       0.82      0.69      0.75       793\n",
      "          LF       0.71      0.65      0.67       481\n",
      "\n",
      "   micro avg       0.78      0.68      0.72      1274\n",
      "   macro avg       0.76      0.67      0.71      1274\n",
      "weighted avg       0.78      0.68      0.72      1274\n",
      "\n",
      "Evaluation for Word+Char embedding:\n",
      "              precision    recall  f1-score   support\n",
      "\n",
      "          AC       0.55      0.90      0.68       793\n",
      "          LF       0.63      0.69      0.66       481\n",
      "\n",
      "   micro avg       0.57      0.82      0.67      1274\n",
      "   macro avg       0.59      0.79      0.67      1274\n",
      "weighted avg       0.58      0.82      0.67      1274\n",
      "\n"
     ]
    }
   ],
   "source": [
    "\n",
    "print(\"Evaluation for Word2Vec embedding:\")\n",
    "evaluate_seqeval(model_w2v, test_loader, tag_to_id)\n",
    "\n",
    "\n",
    "print(\"Evaluation for Word+Char embedding:\")\n",
    "evaluate_seqeval(model_combined, test_loader, tag_to_id)\n"
   ]
  },
  {
   "cell_type": "markdown",
   "id": "Bo-CG4x4BzRm",
   "metadata": {
    "id": "Bo-CG4x4BzRm"
   },
   "source": [
    "### Training Loss Comparison"
   ]
  },
  {
   "cell_type": "code",
   "execution_count": 65,
   "id": "6edef4a5",
   "metadata": {
    "colab": {
     "base_uri": "https://localhost:8080/",
     "height": 472
    },
    "id": "6edef4a5",
    "outputId": "17dd1e9e-b240-48f5-9bb5-c915e13f9a40"
   },
   "outputs": [
    {
     "data": {
      "image/png": "[encoded data removed]",
      "text/plain": [
       "<Figure size 640x480 with 1 Axes>"
      ]
     },
     "metadata": {},
     "output_type": "display_data"
    }
   ],
   "source": [
    "# digram to compare two models training loss\n",
    "import matplotlib.pyplot as plt\n",
    "import numpy as np\n",
    "import seaborn as sns\n",
    "\n",
    "plt.plot(w2v_loss, label='Word2Vec Loss', color='blue')\n",
    "plt.plot(combined_loss, label='Word+Char Loss', color='orange')\n",
    "plt.title('Training Loss Comparison')\n",
    "plt.xlabel('Epochs')\n",
    "plt.ylabel('Loss')\n",
    "plt.legend()\n",
    "plt.grid()\n",
    "plt.show()"
   ]
  },
  {
   "cell_type": "markdown",
   "id": "P7CaEbsJCBjF",
   "metadata": {
    "id": "P7CaEbsJCBjF"
   },
   "source": [
    "### F1 Score Comparison"
   ]
  },
  {
   "cell_type": "code",
   "execution_count": 68,
   "id": "016589de",
   "metadata": {
    "colab": {
     "base_uri": "https://localhost:8080/",
     "height": 472
    },
    "id": "016589de",
    "outputId": "bae0b9e4-a103-4f5c-944c-2bc99f0b5ec6"
   },
   "outputs": [
    {
     "data": {
      "image/png": "[encoded data removed]",
      "text/plain": [
       "<Figure size 640x480 with 1 Axes>"
      ]
     },
     "metadata": {},
     "output_type": "display_data"
    }
   ],
   "source": [
    "# digram to compare two models f1 score\n",
    "plt.plot(w2v_f1, label='Word2Vec F1 Score', color='blue')\n",
    "plt.plot(combined_f1, label='Word+Char F1 Score', color='orange')\n",
    "plt.title('F1 Score Comparison')\n",
    "plt.xlabel('Epochs')\n",
    "plt.ylabel('F1 Score')\n",
    "plt.legend()\n",
    "plt.grid()\n",
    "plt.show()"
   ]
  },
  {
   "cell_type": "markdown",
   "id": "686ba79a",
   "metadata": {
    "id": "686ba79a"
   },
   "source": [
    "## Error analysis"
   ]
  },
  {
   "cell_type": "markdown",
   "id": "In3-8CpXCWyR",
   "metadata": {
    "id": "In3-8CpXCWyR"
   },
   "source": [
    "### Confusion Matrix for NER Tags"
   ]
  },
  {
   "cell_type": "code",
   "execution_count": 67,
   "id": "97626794",
   "metadata": {
    "id": "97626794"
   },
   "outputs": [],
   "source": [
    "from sklearn.metrics import confusion_matrix\n",
    "import seaborn as sns\n",
    "def get_ner_confusion_data(predictions, tag_list):\n",
    "    all_preds, all_trues = [], []\n",
    "    for _, preds, trues in predictions:\n",
    "        for p, t in zip(preds, trues):\n",
    "            all_preds.append(p)\n",
    "            all_trues.append(t)\n",
    "\n",
    "    cm = confusion_matrix(all_trues, all_preds, labels=tag_list, normalize='true')\n",
    "    return cm\n"
   ]
  },
  {
   "cell_type": "markdown",
   "id": "Hh60xecHCiB3",
   "metadata": {
    "id": "Hh60xecHCiB3"
   },
   "source": [
    "### Confusion Matrix Comparison for NER Models\n"
   ]
  },
  {
   "cell_type": "code",
   "execution_count": 58,
   "id": "2b0d59d7",
   "metadata": {
    "id": "2b0d59d7"
   },
   "outputs": [],
   "source": [
    "from sklearn.metrics import ConfusionMatrixDisplay\n",
    "def compare_ner_confusion_matrices(predictions_1, predictions_2, tag_list, labels=(\"Model 1\", \"Model 2\")):\n",
    "    cm1 = get_ner_confusion_data(predictions_1, tag_list)\n",
    "    cm2 = get_ner_confusion_data(predictions_2, tag_list)\n",
    "\n",
    "    fig, axes = plt.subplots(1, 2, figsize=(14, 6), sharey=True)\n",
    "\n",
    "    for ax, cm, label in zip(axes, [cm1, cm2], labels):\n",
    "        disp = ConfusionMatrixDisplay(confusion_matrix=cm, display_labels=tag_list)\n",
    "        disp.plot(cmap=\"Blues\", xticks_rotation=45, ax=ax, colorbar=False)\n",
    "        ax.set_title(f\"Confusion Matrix: {label}\")\n",
    "        ax.grid(False)\n",
    "\n",
    "    plt.tight_layout()\n",
    "    plt.show()\n"
   ]
  },
  {
   "cell_type": "markdown",
   "id": "cnUuweB0CrJW",
   "metadata": {
    "id": "cnUuweB0CrJW"
   },
   "source": [
    "### Collecting NER Predictions"
   ]
  },
  {
   "cell_type": "code",
   "execution_count": 59,
   "id": "0dcf9751",
   "metadata": {
    "id": "0dcf9751"
   },
   "outputs": [],
   "source": [
    "def collect_predictions(model, dataloader, id_to_tag, id_to_word=None, device='cpu'):\n",
    "    model.eval()\n",
    "    all_examples = []\n",
    "\n",
    "    with torch.no_grad():\n",
    "        for batch in dataloader:\n",
    "            if len(batch) == 4:\n",
    "                tokens, char_ids, tags, mask = batch\n",
    "                tokens, char_ids, tags, mask = map(lambda x: x.to(device), (tokens, char_ids, tags, mask))\n",
    "                preds = model(tokens, char_ids=char_ids, mask=mask)\n",
    "            else:\n",
    "                tokens, tags, mask = batch\n",
    "                tokens, tags, mask = map(lambda x: x.to(device), (tokens, tags, mask))\n",
    "                preds = model(tokens, mask=mask)\n",
    "\n",
    "            for tok_ids, pred_seq, true_seq, m in zip(tokens, preds, tags, mask):\n",
    "                seq_len = int(m.sum().item())\n",
    "                pred_tags = [id_to_tag[p] for p in pred_seq[:seq_len]]\n",
    "                true_tags = [id_to_tag[t.item()] for t in true_seq[:seq_len]]\n",
    "\n",
    "                if id_to_word is not None:\n",
    "                    words = [id_to_word[t.item()] for t in tok_ids[:seq_len]]\n",
    "                else:\n",
    "                    words = None\n",
    "\n",
    "                all_examples.append((words, pred_tags, true_tags))\n",
    "\n",
    "    model.train()\n",
    "    return all_examples\n"
   ]
  },
  {
   "cell_type": "markdown",
   "id": "Js_KZgziCzqf",
   "metadata": {
    "id": "Js_KZgziCzqf"
   },
   "source": [
    "### Final Confusion Matrix Comparison"
   ]
  },
  {
   "cell_type": "code",
   "execution_count": 62,
   "id": "f83b6b6f",
   "metadata": {
    "colab": {
     "base_uri": "https://localhost:8080/",
     "height": 607
    },
    "id": "f83b6b6f",
    "outputId": "539bfed0-2f99-4b1e-edf5-2e6c12d8119b"
   },
   "outputs": [
    {
     "data": {
      "image/png": "[encoded data removed]",
      "text/plain": [
       "<Figure size 1400x600 with 2 Axes>"
      ]
     },
     "metadata": {},
     "output_type": "display_data"
    }
   ],
   "source": [
    "predictions_w2v = collect_predictions(model_w2v, test_loader, id2tag)\n",
    "predictions_combined = collect_predictions(model_combined, test_loader, id2tag)\n",
    "\n",
    "tag_list = sorted(set(tag for preds in [predictions_w2v, predictions_combined]\n",
    "                      for _, p, t in preds for tag in p + t))\n",
    "\n",
    "compare_ner_confusion_matrices(predictions_w2v, predictions_combined, tag_list, labels=(\"Word2Vec\", \"Word+Char\"))\n"
   ]
  },
  {
   "cell_type": "markdown",
   "id": "-l6JeqgiTQa0",
   "metadata": {
    "id": "-l6JeqgiTQa0"
   },
   "source": [
    "### Confusion Matrix Analysis: Word2Vec vs. Word+Char Models\n",
    "\n",
    "We compared the performance of two NER models using normalized confusion matrices:\n",
    "\n",
    "- **Model 1**: Word2Vec-only\n",
    "- **Model 2**: Word + Character-level BiLSTM\n",
    "\n",
    "#### Key Observations:\n",
    "\n",
    "- **`B-AC` (Begin-AC)**:\n",
    "  - Word2Vec: 80% correct, 19% misclassified as `O`.\n",
    "  - Word+Char: Improved to **84%** correct, reduced confusion with `O`.\n",
    "\n",
    "- **`B-LF` (Begin-LF)**:\n",
    "  - Word2Vec: 69% correct, 18% → `O`, 8% → `I-LF`.\n",
    "  - Word+Char: Slight improvement to 70%, with a small increase in `O` misclassification (22%).\n",
    "\n",
    "- **`I-LF` (Inside-LF)**:\n",
    "  - Word2Vec: 80% correct, 15% → `O`.\n",
    "  - Word+Char: Slight dip to 77%, with a few more cases misclassified as `B-LF`.\n",
    "\n",
    "- **`O` (Outside tag)**:\n",
    "  - Both models show similar accuracy (~90%), with some confusion from boundary labels like `B-AC`.\n",
    "\n",
    "#### ✅ Takeaway:\n",
    "Character-level features improve classification of boundary entity tags (`B-AC`, `B-LF`), especially in distinguishing them from non-entity tokens (`O`). However, the added complexity introduces some trade-offs in adjacent class confusion, which is common in sequence labeling tasks.\n",
    "\n",
    "These findings suggest the **Word+Char model generalizes slightly better**, particularly for detecting the beginning of entities with morphological cues.\n"
   ]
  },
  {
   "cell_type": "code",
   "execution_count": 63,
   "id": "fd601333",
   "metadata": {
    "id": "fd601333"
   },
   "outputs": [],
   "source": [
    "from collections import Counter\n",
    "\n",
    "def get_top_confusions(predictions, top_k=10, exclude_correct=True):\n",
    "    confusion_counts = Counter()\n",
    "\n",
    "    for _, pred_tags, true_tags in predictions:\n",
    "        for pred, true in zip(pred_tags, true_tags):\n",
    "            if exclude_correct and pred == true:\n",
    "                continue\n",
    "            confusion_counts[(true, pred)] += 1\n",
    "\n",
    "    most_common = confusion_counts.most_common(top_k)\n",
    "    print(f\"\\nTop {top_k} Tag Confusions:\\n\")\n",
    "    for (true, pred), count in most_common:\n",
    "        print(f\"True: {true:<6} → Pred: {pred:<6} | Count: {count}\")\n"
   ]
  },
  {
   "cell_type": "markdown",
   "id": "HAaoM8psTwTG",
   "metadata": {
    "id": "HAaoM8psTwTG"
   },
   "source": [
    "### Tag Confusion Analysis: Word2Vec vs Word+Char Models"
   ]
  },
  {
   "cell_type": "code",
   "execution_count": 64,
   "id": "c7be9cfd",
   "metadata": {
    "colab": {
     "base_uri": "https://localhost:8080/"
    },
    "id": "c7be9cfd",
    "outputId": "618b252a-c33a-4201-fd18-2f3c1ce85d00"
   },
   "outputs": [
    {
     "name": "stdout",
     "output_type": "stream",
     "text": [
      "Word2Vec Confusions:\n",
      "\n",
      "Top 10 Tag Confusions:\n",
      "\n",
      "True: O      → Pred: B-AC   | Count: 474\n",
      "True: O      → Pred: I-LF   | Count: 201\n",
      "True: I-LF   → Pred: O      | Count: 186\n",
      "True: B-AC   → Pred: O      | Count: 147\n",
      "True: B-LF   → Pred: O      | Count: 86\n",
      "True: O      → Pred: B-LF   | Count: 80\n",
      "True: B-LF   → Pred: I-LF   | Count: 40\n",
      "True: I-LF   → Pred: B-AC   | Count: 36\n",
      "True: I-LF   → Pred: B-LF   | Count: 23\n",
      "True: B-LF   → Pred: B-AC   | Count: 21\n",
      "Word+Char Confusions:\n",
      "\n",
      "Top 10 Tag Confusions:\n",
      "\n",
      "True: O      → Pred: B-AC   | Count: 443\n",
      "True: O      → Pred: I-LF   | Count: 220\n",
      "True: I-LF   → Pred: O      | Count: 205\n",
      "True: B-AC   → Pred: O      | Count: 119\n",
      "True: B-LF   → Pred: O      | Count: 107\n",
      "True: O      → Pred: B-LF   | Count: 95\n",
      "True: I-LF   → Pred: B-LF   | Count: 51\n",
      "True: I-LF   → Pred: B-AC   | Count: 27\n",
      "True: B-LF   → Pred: I-LF   | Count: 22\n",
      "True: B-LF   → Pred: B-AC   | Count: 17\n"
     ]
    }
   ],
   "source": [
    "print(\"Word2Vec Confusions:\")\n",
    "get_top_confusions(predictions_w2v)\n",
    "\n",
    "print(\"Word+Char Confusions:\")\n",
    "get_top_confusions(predictions_combined)\n"
   ]
  },
  {
   "cell_type": "code",
   "execution_count": 65,
   "id": "11b46470",
   "metadata": {
    "id": "11b46470"
   },
   "outputs": [],
   "source": [
    "id_to_token = {v: k for k, v in word_vocab.items()}"
   ]
  },
  {
   "cell_type": "markdown",
   "id": "HueTdWDVT73I",
   "metadata": {
    "id": "HueTdWDVT73I"
   },
   "source": [
    "### Most Frequently Missed Tokens (False Negatives)"
   ]
  },
  {
   "cell_type": "code",
   "execution_count": 66,
   "id": "a5c8960e",
   "metadata": {
    "colab": {
     "base_uri": "https://localhost:8080/"
    },
    "id": "a5c8960e",
    "outputId": "c26a5781-1540-467d-a582-8d8f38f6a4ca"
   },
   "outputs": [
    {
     "name": "stdout",
     "output_type": "stream",
     "text": [
      "\n",
      "Top 20 most frequently misclassified tokens (FN):\n",
      "\n",
      "<UNK>                | Missed: 99\n",
      "-                    | Missed: 38\n",
      "and                  | Missed: 13\n",
      "of                   | Missed: 9\n",
      ",                    | Missed: 8\n",
      "/                    | Missed: 5\n",
      "standard             | Missed: 4\n",
      "D                    | Missed: 4\n",
      "6                    | Missed: 3\n",
      "to                   | Missed: 3\n",
      "R                    | Missed: 3\n",
      "FPG                  | Missed: 3\n",
      "in                   | Missed: 3\n",
      "Ginir                | Missed: 3\n",
      "rich                 | Missed: 3\n",
      "trans                | Missed: 3\n",
      "S                    | Missed: 3\n",
      "Australian           | Missed: 3\n",
      "global               | Missed: 2\n",
      "LOS                  | Missed: 2\n",
      "\n",
      "Top 20 most frequently misclassified tokens (FN):\n",
      "\n",
      "<UNK>                | Missed: 182\n",
      "-                    | Missed: 32\n",
      "of                   | Missed: 11\n",
      "and                  | Missed: 10\n",
      "/                    | Missed: 6\n",
      "for                  | Missed: 5\n",
      ",                    | Missed: 5\n",
      "Ginir                | Missed: 5\n",
      "D                    | Missed: 4\n",
      "to                   | Missed: 4\n",
      "Scale                | Missed: 4\n",
      "Diabetes             | Missed: 4\n",
      "–                    | Missed: 3\n",
      "R                    | Missed: 3\n",
      "1                    | Missed: 3\n",
      "Cep112               | Missed: 3\n",
      "rich                 | Missed: 3\n",
      "trans                | Missed: 3\n",
      "Australian           | Missed: 3\n",
      "intracellular        | Missed: 2\n"
     ]
    }
   ],
   "source": [
    "from collections import Counter\n",
    "\n",
    "def get_most_missed_tokens(predictions, target_tags={\"B-AC\", \"I-AC\", \"B-LF\", \"I-LF\"}, top_k=20):\n",
    "    missed = Counter()\n",
    "\n",
    "    for tokens, pred_tags, true_tags in predictions:\n",
    "        for word, pred, true in zip(tokens, pred_tags, true_tags):\n",
    "            if true in target_tags and pred != true:\n",
    "                missed[word] += 1\n",
    "\n",
    "    print(f\"\\nTop {top_k} most frequently misclassified tokens (FN):\\n\")\n",
    "    for token, count in missed.most_common(top_k):\n",
    "        print(f\"{token:<20} | Missed: {count}\")\n",
    "\n",
    "\n",
    "predictions_w2v = collect_predictions(model_w2v, test_loader, id2tag, id_to_token)\n",
    "get_most_missed_tokens(predictions_w2v)\n",
    "\n",
    "predictions_combined = collect_predictions(model_combined, test_loader, id2tag, id_to_token)\n",
    "get_most_missed_tokens(predictions_combined)\n"
   ]
  }
 ],
 "metadata": {
  "accelerator": "GPU",
  "colab": {
   "gpuType": "T4",
   "provenance": []
  },
  "kernelspec": {
   "display_name": "Python 3 (ipykernel)",
   "language": "python",
   "name": "python3"
  },
  "language_info": {
   "codemirror_mode": {
    "name": "ipython",
    "version": 3
   },
   "file_extension": ".py",
   "mimetype": "text/x-python",
   "name": "python",
   "nbconvert_exporter": "python",
   "pygments_lexer": "ipython3",
   "version": "3.9.6"
  }
 },
 "nbformat": 4,
 "nbformat_minor": 5
}
